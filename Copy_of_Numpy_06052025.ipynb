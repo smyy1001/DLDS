{
  "nbformat": 4,
  "nbformat_minor": 0,
  "metadata": {
    "colab": {
      "provenance": [],
      "include_colab_link": true
    },
    "kernelspec": {
      "name": "python3",
      "display_name": "Python 3"
    },
    "language_info": {
      "name": "python"
    }
  },
  "cells": [
    {
      "cell_type": "markdown",
      "metadata": {
        "id": "view-in-github",
        "colab_type": "text"
      },
      "source": [
        "<a href=\"https://colab.research.google.com/github/smyy1001/DLDS/blob/main/Copy_of_Numpy_06052025.ipynb\" target=\"_parent\"><img src=\"https://colab.research.google.com/assets/colab-badge.svg\" alt=\"Open In Colab\"/></a>"
      ]
    },
    {
      "cell_type": "markdown",
      "source": [
        "### ***Introduction of numpy ***"
      ],
      "metadata": {
        "id": "wnv11U-TGmCQ"
      }
    },
    {
      "cell_type": "markdown",
      "source": [
        "### **To import a library we use this code : Import (the name library) as (Ab. of the name)**"
      ],
      "metadata": {
        "id": "ZctK7K-2ySF3"
      }
    },
    {
      "cell_type": "code",
      "source": [
        "\n",
        "import numpy as np\n"
      ],
      "metadata": {
        "id": "leou8aJLHK6Y"
      },
      "execution_count": null,
      "outputs": []
    },
    {
      "cell_type": "markdown",
      "source": [
        "To know the version of the numpy"
      ],
      "metadata": {
        "id": "1pzSw4lYINww"
      }
    },
    {
      "cell_type": "code",
      "source": [
        "np.__version__\n",
        "\n"
      ],
      "metadata": {
        "colab": {
          "base_uri": "https://localhost:8080/",
          "height": 42
        },
        "id": "a2IOJHp4FPvx",
        "outputId": "2f09e4b4-ed3f-4672-efae-7a16a246b8c8"
      },
      "execution_count": null,
      "outputs": [
        {
          "output_type": "execute_result",
          "data": {
            "text/plain": [
              "'1.23.5'"
            ],
            "application/vnd.google.colaboratory.intrinsic+json": {
              "type": "string"
            }
          },
          "metadata": {},
          "execution_count": 2
        }
      ]
    },
    {
      "cell_type": "markdown",
      "source": [
        "### **An array is a central data structure of the NumPy library. An array is a\n",
        "\n",
        "1.   List item\n",
        "\n",
        "\n",
        "grid of values and it contains information about the raw data, how to locate an element, and how to interpret an element. It has a grid of elements that can be indexed in various ways**\n",
        "\n",
        "---\n",
        "### **A matrix is a two-dimensional data structure where numbers are arranged into rows and colum**\n",
        "\n",
        "---\n",
        "\n",
        "### **The** **difference** **between array and matrix in Python**:\n",
        "\n",
        "### Numpy matrices are strictly 2-dimensional, while numpy arrays (ndarrays) are N-dimensional. Matrix objects are a subclass of ndarray, so they inherit all the attributes and methods of ndarrays.\n"
      ],
      "metadata": {
        "id": "Cfyu76BBIugL"
      }
    },
    {
      "cell_type": "markdown",
      "source": [
        "### **Array**\n",
        "instead of writting numpy.array , we write np.array ()\n",
        "Becasue i assign the np as numpy"
      ],
      "metadata": {
        "id": "JZE3kqtCHFPN"
      }
    },
    {
      "cell_type": "markdown",
      "source": [
        "# Array\n",
        "numpy.array()"
      ],
      "metadata": {
        "id": "1FOkXzPBK5Cj"
      }
    },
    {
      "cell_type": "markdown",
      "source": [
        "# **Each full bracket is representative of one row , and the number of the elemnets inside the bracket is represntative of column **"
      ],
      "metadata": {
        "id": "xHFe6on01gei"
      }
    },
    {
      "cell_type": "code",
      "source": [
        "a = np.array([[1,2],[3,4]])\n",
        "#print(a)\n",
        "a"
      ],
      "metadata": {
        "colab": {
          "base_uri": "https://localhost:8080/"
        },
        "id": "UIZk7xcqHuFk",
        "outputId": "eb303fe9-9531-40a6-e7e1-64c5c7892a51"
      },
      "execution_count": null,
      "outputs": [
        {
          "output_type": "execute_result",
          "data": {
            "text/plain": [
              "array([[1, 2],\n",
              "       [3, 4]])"
            ]
          },
          "metadata": {},
          "execution_count": 4
        }
      ]
    },
    {
      "cell_type": "code",
      "source": [
        "a"
      ],
      "metadata": {
        "colab": {
          "base_uri": "https://localhost:8080/"
        },
        "id": "m1qxnj7tPv3Z",
        "outputId": "07f2220a-0a4b-4b75-bcef-0c34646e05f2"
      },
      "execution_count": null,
      "outputs": [
        {
          "output_type": "execute_result",
          "data": {
            "text/plain": [
              "array([[1, 2],\n",
              "       [3, 4]])"
            ]
          },
          "metadata": {},
          "execution_count": 3
        }
      ]
    },
    {
      "cell_type": "markdown",
      "source": [
        "## Here we define a Serie only by one pair bracket"
      ],
      "metadata": {
        "id": "zQMDjWQjEVpm"
      }
    },
    {
      "cell_type": "code",
      "source": [
        "y = np.array([1,2,3,4,5,6,7,8])\n",
        "y"
      ],
      "metadata": {
        "colab": {
          "base_uri": "https://localhost:8080/"
        },
        "id": "NHpH48C7JmIy",
        "outputId": "e619f70c-4b6a-47bc-c15b-65c7f95afe9d"
      },
      "execution_count": null,
      "outputs": [
        {
          "output_type": "execute_result",
          "data": {
            "text/plain": [
              "array([1, 2, 3, 4, 5, 6, 7, 8])"
            ]
          },
          "metadata": {},
          "execution_count": 5
        }
      ]
    },
    {
      "cell_type": "code",
      "source": [
        "a = np.array([[1, 2],[3, 4]])\n",
        "a"
      ],
      "metadata": {
        "colab": {
          "base_uri": "https://localhost:8080/"
        },
        "id": "8deIH3wgK9l9",
        "outputId": "2fe789de-39a0-4fed-b833-56c0d53f3b01"
      },
      "execution_count": null,
      "outputs": [
        {
          "output_type": "execute_result",
          "data": {
            "text/plain": [
              "array([[1, 2],\n",
              "       [3, 4]])"
            ]
          },
          "metadata": {},
          "execution_count": 6
        }
      ]
    },
    {
      "cell_type": "code",
      "source": [
        "c = np.array([[1,2,3],[4,4,4],[7,8,9]])\n",
        "c"
      ],
      "metadata": {
        "colab": {
          "base_uri": "https://localhost:8080/"
        },
        "id": "JYb4Z_K5tpyg",
        "outputId": "616a459a-c88b-45f5-825a-3313fc0ec190"
      },
      "execution_count": null,
      "outputs": [
        {
          "output_type": "execute_result",
          "data": {
            "text/plain": [
              "array([[1, 2, 3],\n",
              "       [4, 4, 4],\n",
              "       [7, 8, 9]])"
            ]
          },
          "metadata": {},
          "execution_count": 9
        }
      ]
    },
    {
      "cell_type": "markdown",
      "source": [
        "## **Matrix**"
      ],
      "metadata": {
        "id": "cV2p-It-LJby"
      }
    },
    {
      "cell_type": "markdown",
      "source": [
        "# Although matrix is a sub class of Array n dimentional , we keep this code becasue we have special mathematic operation for matrix"
      ],
      "metadata": {
        "id": "1LFgewcMElrC"
      }
    },
    {
      "cell_type": "code",
      "source": [
        "b = np.matrix([[1, 2],[3, 4]])\n",
        "b\n"
      ],
      "metadata": {
        "colab": {
          "base_uri": "https://localhost:8080/"
        },
        "id": "2xLQrGnPLNu1",
        "outputId": "17db2bef-8571-4661-873b-b82b265959f0"
      },
      "execution_count": null,
      "outputs": [
        {
          "output_type": "execute_result",
          "data": {
            "text/plain": [
              "matrix([[1, 2],\n",
              "        [3, 4]])"
            ]
          },
          "metadata": {},
          "execution_count": 11
        }
      ]
    },
    {
      "cell_type": "markdown",
      "source": [
        "## **Dtype**\n",
        "int8 = Byte (-128 to 127)\n",
        "\n",
        "int16 = Integer (-32768 to 32767)\n",
        "\n",
        "int32 = Integer (-2147483648 to +2147483647)\n",
        "\n",
        "int64 = Integer (-9223372036854775808 to +9223372036854775807)\n",
        "\n",
        "Boolean = (True or False) stored as a byte\n",
        "\n",
        "float = Shorthand for float64 : Double precision float: sign bit,\n",
        "11 bits exponent, 52 bits mantissa\n",
        "\n",
        "complex = Shorthand for complex128 : Complex number"
      ],
      "metadata": {
        "id": "udhc5rReMJFN"
      }
    },
    {
      "cell_type": "code",
      "source": [],
      "metadata": {
        "id": "pDn9wnPxOOkD"
      },
      "execution_count": null,
      "outputs": []
    },
    {
      "cell_type": "markdown",
      "source": [
        "# *If you want to manage the memory or the process capacity , we use dtype and assign an appropriate variable size for each array. *"
      ],
      "metadata": {
        "id": "iNB3Laes274I"
      }
    },
    {
      "cell_type": "code",
      "source": [
        "np.array([1, 2, 3], dtype='int8')"
      ],
      "metadata": {
        "colab": {
          "base_uri": "https://localhost:8080/"
        },
        "id": "8CKgynEtOPFm",
        "outputId": "1e4c39f3-e231-4355-b5f9-ed1e0c81e49e"
      },
      "execution_count": null,
      "outputs": [
        {
          "output_type": "execute_result",
          "data": {
            "text/plain": [
              "array([1, 2, 3], dtype=int8)"
            ]
          },
          "metadata": {},
          "execution_count": 7
        }
      ]
    },
    {
      "cell_type": "markdown",
      "source": [
        "![image.png](data:image/png;base64,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)"
      ],
      "metadata": {
        "id": "9mBnMWf_N8_7"
      }
    },
    {
      "cell_type": "code",
      "source": [
        "a"
      ],
      "metadata": {
        "colab": {
          "base_uri": "https://localhost:8080/"
        },
        "id": "v7uUoW4rPC3H",
        "outputId": "b81cc977-db46-414b-febe-941e9bffcaa7"
      },
      "execution_count": null,
      "outputs": [
        {
          "output_type": "execute_result",
          "data": {
            "text/plain": [
              "array([[1, 2],\n",
              "       [3, 4]])"
            ]
          },
          "metadata": {},
          "execution_count": 12
        }
      ]
    },
    {
      "cell_type": "code",
      "source": [
        "a@a"
      ],
      "metadata": {
        "colab": {
          "base_uri": "https://localhost:8080/"
        },
        "id": "ujCV39JoO8Eh",
        "outputId": "558d1d0e-a806-444c-9b39-b079568db1a8"
      },
      "execution_count": null,
      "outputs": [
        {
          "output_type": "execute_result",
          "data": {
            "text/plain": [
              "array([[ 7, 10],\n",
              "       [15, 22]])"
            ]
          },
          "metadata": {},
          "execution_count": 15
        }
      ]
    },
    {
      "cell_type": "code",
      "source": [
        "np.dot(c,c)"
      ],
      "metadata": {
        "colab": {
          "base_uri": "https://localhost:8080/"
        },
        "id": "aJO_CvBmPIq4",
        "outputId": "7dfbe1a2-ba9d-46a8-a7bb-a12b96388f2c"
      },
      "execution_count": null,
      "outputs": [
        {
          "output_type": "execute_result",
          "data": {
            "text/plain": [
              "array([[ 30,  34,  38],\n",
              "       [ 48,  56,  64],\n",
              "       [102, 118, 134]])"
            ]
          },
          "metadata": {},
          "execution_count": 18
        }
      ]
    },
    {
      "cell_type": "markdown",
      "source": [
        "# The result is from matrix multiplication"
      ],
      "metadata": {
        "id": "0E69cjldF2Yw"
      }
    },
    {
      "cell_type": "markdown",
      "source": [
        "## **Numpy.multiply** or *\n",
        "\n",
        "# This Operation is applicable only for variables which have been defined as array but not as matrix"
      ],
      "metadata": {
        "id": "HRJxIAeQP1nq"
      }
    },
    {
      "cell_type": "markdown",
      "source": [
        "![image.png](data:image/png;base64,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)"
      ],
      "metadata": {
        "id": "pLgH_QFQPozf"
      }
    },
    {
      "cell_type": "code",
      "source": [
        "print(a)\n",
        "np.multiply(a,a)"
      ],
      "metadata": {
        "colab": {
          "base_uri": "https://localhost:8080/"
        },
        "id": "RVzjJTl_OfzO",
        "outputId": "569e18d9-56b0-42cd-d405-197d9e0aa1b3"
      },
      "execution_count": null,
      "outputs": [
        {
          "output_type": "stream",
          "name": "stdout",
          "text": [
            "[[1 2]\n",
            " [3 4]]\n"
          ]
        },
        {
          "output_type": "execute_result",
          "data": {
            "text/plain": [
              "array([[ 1,  4],\n",
              "       [ 9, 16]])"
            ]
          },
          "metadata": {},
          "execution_count": 19
        }
      ]
    },
    {
      "cell_type": "markdown",
      "source": [
        "\n",
        "\n",
        "```\n",
        "# This is formatted as code\n",
        "```\n",
        "\n",
        "### The difference between Matrix and Array in *"
      ],
      "metadata": {
        "id": "wTsouF07Sna5"
      }
    },
    {
      "cell_type": "code",
      "source": [
        "a*a"
      ],
      "metadata": {
        "colab": {
          "base_uri": "https://localhost:8080/"
        },
        "id": "6kZ89YXTSfcI",
        "outputId": "f218da77-e385-45ee-d136-edf9e99e9861"
      },
      "execution_count": null,
      "outputs": [
        {
          "output_type": "execute_result",
          "data": {
            "text/plain": [
              "array([[ 1,  4],\n",
              "       [ 9, 16]])"
            ]
          },
          "metadata": {},
          "execution_count": 22
        }
      ]
    },
    {
      "cell_type": "code",
      "source": [
        "b"
      ],
      "metadata": {
        "colab": {
          "base_uri": "https://localhost:8080/"
        },
        "id": "J3gKaTs_7QH_",
        "outputId": "01205bdd-618c-4f42-869f-1372a17e4de4"
      },
      "execution_count": null,
      "outputs": [
        {
          "output_type": "execute_result",
          "data": {
            "text/plain": [
              "array([5, 6, 7])"
            ]
          },
          "metadata": {},
          "execution_count": 19
        }
      ]
    },
    {
      "cell_type": "code",
      "source": [
        "b*b"
      ],
      "metadata": {
        "colab": {
          "base_uri": "https://localhost:8080/"
        },
        "id": "yUHd1b6nSzy6",
        "outputId": "23870ab7-c83e-4c1e-aa03-f6c779a9e22d"
      },
      "execution_count": null,
      "outputs": [
        {
          "output_type": "execute_result",
          "data": {
            "text/plain": [
              "matrix([[ 7, 10],\n",
              "        [15, 22]])"
            ]
          },
          "metadata": {},
          "execution_count": 21
        }
      ]
    },
    {
      "cell_type": "code",
      "source": [
        "b@b"
      ],
      "metadata": {
        "colab": {
          "base_uri": "https://localhost:8080/"
        },
        "id": "cOEu4lgwVLl0",
        "outputId": "ec504f41-1ab7-4e6b-8afc-0822143ec872"
      },
      "execution_count": null,
      "outputs": [
        {
          "output_type": "execute_result",
          "data": {
            "text/plain": [
              "matrix([[ 7, 10],\n",
              "        [15, 22]])"
            ]
          },
          "metadata": {},
          "execution_count": 11
        }
      ]
    },
    {
      "cell_type": "markdown",
      "source": [
        "## **numpy.prod(. )**\n",
        "multiply all members of the array together."
      ],
      "metadata": {
        "id": "C-_oemkiTNKu"
      }
    },
    {
      "cell_type": "code",
      "source": [
        "np.prod(b)"
      ],
      "metadata": {
        "colab": {
          "base_uri": "https://localhost:8080/"
        },
        "id": "fkts9KACNUJ1",
        "outputId": "471c89e9-4a38-439c-98e8-a0cfd8c98680"
      },
      "execution_count": null,
      "outputs": [
        {
          "output_type": "execute_result",
          "data": {
            "text/plain": [
              "24"
            ]
          },
          "metadata": {},
          "execution_count": 18
        }
      ]
    },
    {
      "cell_type": "code",
      "source": [
        "np.prod(a)"
      ],
      "metadata": {
        "colab": {
          "base_uri": "https://localhost:8080/"
        },
        "id": "TdevYL6mTQ-C",
        "outputId": "60fcf28a-287f-46ef-cc71-ec707dc39db8"
      },
      "execution_count": null,
      "outputs": [
        {
          "output_type": "execute_result",
          "data": {
            "text/plain": [
              "24"
            ]
          },
          "metadata": {},
          "execution_count": 19
        }
      ]
    },
    {
      "cell_type": "markdown",
      "source": [
        "### **Broadcasting**\n",
        "\n",
        "Broadcasting helps to make a hormoney between two arrays with different dimensions."
      ],
      "metadata": {
        "id": "vne5AjGrTVjS"
      }
    },
    {
      "cell_type": "code",
      "source": [
        "my_array = np.array([1, 2, 3])\n",
        "my_array + 5"
      ],
      "metadata": {
        "colab": {
          "base_uri": "https://localhost:8080/"
        },
        "id": "L1-OLmf6USwL",
        "outputId": "91302124-0fd9-418c-8603-a4bf25f73150"
      },
      "execution_count": null,
      "outputs": [
        {
          "output_type": "execute_result",
          "data": {
            "text/plain": [
              "array([6, 7, 8])"
            ]
          },
          "metadata": {},
          "execution_count": 14
        }
      ]
    },
    {
      "cell_type": "markdown",
      "source": [
        "![image.png](data:image/png;base64,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)"
      ],
      "metadata": {
        "id": "s940g8pZUkBX"
      }
    },
    {
      "cell_type": "markdown",
      "source": [
        "**numpy**.ones means making an array which all members are one."
      ],
      "metadata": {
        "id": "WMXkVAgCI3Sf"
      }
    },
    {
      "cell_type": "code",
      "source": [
        "a = np.ones((3,3))\n",
        "b = np.array([5, 6, 7])\n",
        "a + b"
      ],
      "metadata": {
        "colab": {
          "base_uri": "https://localhost:8080/"
        },
        "id": "0Z0eBtLCUvsF",
        "outputId": "7c5dd134-e754-45ff-ff15-7d0bbd1bff98"
      },
      "execution_count": null,
      "outputs": [
        {
          "output_type": "execute_result",
          "data": {
            "text/plain": [
              "array([[6., 7., 8.],\n",
              "       [6., 7., 8.],\n",
              "       [6., 7., 8.]])"
            ]
          },
          "metadata": {},
          "execution_count": 23
        }
      ]
    },
    {
      "cell_type": "markdown",
      "source": [
        "![image.png](data:image/png;base64,iVBORw0KGgoAAAANSUhEUgAAAkIAAACtCAIAAADTSIcpAAAMPmlDQ1BJQ0MgUHJvZmlsZQAASImVVwdYU8kWnluSkEBogVCkhN4E6VVKCC2CgFTBRkgChBJjIIjYEVHBtYsFbOiqiKJrAWRREbG7CPa+WEBYWRcLNlTepICu+8r35vvmzn//OfOfM+fO3HsHALVmjkiUjaoDkCPME8eEBjImJiUzSN1AGWgDKnACyhxurogZHR0BYBlu/17e3QKItL1uL9X6Z/9/LRo8fi4XACQa4lReLjcH4qMA4JVckTgPAKKUN5uZJ5JiWIGWGAYI8VIpTpfjSilOleNDMpu4GBbErQAoqXA44nQAVNshz8jnpkMN1X6IHYU8gRAANQbEfjk503kQp0BsDW1EEEv1PVO/00n/m2bqiCaHkz6C5XORFaUgQa4omzPr/0zH/y452ZJhH5awqmSIw2Kkc4Z5u5M1PVyKVSDuE6ZGRkGsCfEHAU9mDzFKyZCExcvtUQNuLgvmDNAhduRxgsIhNoA4RJgdGaHgU9MEIWyI4QpBCwR57DiIdSFeys8NjlXYbBdPj1H4QuvSxCymgr/AEcv8Sn09kmTFMxX6rzP4bIU+plqYEZcIMQVi83xBQiTEqhA75GbFhitsxhZmsCKHbcSSGGn85hDH8IWhgXJ9LD9NHBKjsC/NyR2eL7Y9Q8COVODDeRlxYfL8YK1cjix+OBesnS9kxg/r8HMnRgzPhccPCpbPHevhC+NjFTofRHmBMfKxOEWUHa2wx0352aFS3hRi19z8WMVYPCEPLki5Pp4myouOk8eJF2ZyxkXL48FXgQjAAkGAASSwpoLpIBMI2vrq++CdvCcEcIAYpAM+sFcwwyMSZT1CeI0FheBPiPggd2RcoKyXD/Ih/2WElV/tQZqsN182Igt0Q5wDwkE2vJfIRglHvCWAZ5AR/MM7B1YujDcbVmn/v+eH2W8MEzIRCkYy7JGhNmxJDCYGEcOIIUQbXB/3w33wCHgNgNUZ98S9hufxzZ7QTeggPCHcJHQS7k4TFIl/iHI86IT6IYpcpH6fC9wSarrhgbgvVIfKOB3XB/a4K/TDxP2hZzfIshRxS7PC+EH7bzP47mko7MiOZJSsQw4gW/84UtVW1W1ERZrr7/MjjzV1JN+skZ4f/bO+yz4PtuE/WmJLsSPYeew0dhFrwuoBAzuFNWBXsBNSPLK6nslW17C3GFk8WVBH8A9/w09WmslcxxrHXsfP8r48foH0HQ1Y00WzxIL0jDwGE34R+Ay2kOswmuHs6OwMgPT7In99vaHLvhsI/dI3rugtAL68oaGhpm9cBNzrRxfD7d/9jbM6CV8TOgBcKONKxPlyDpdeCPAtoQZ3mh4wAmbAGs7HGbgDHxAAgsE4EAXiQBKYCqPPgOtcDGaCOWAhKAFlYBVYDzaDbWAn2AsOgMOgHjSB0+AcuAzawU1wH66eLvAC9IN3YBBBEBJCRWiIHmKMWCB2iDPiifghwUgEEoMkISlIOiJEJMgcZBFShqxBNiM7kGrkF+Q4chq5iHQgd5HHSC/yGvmEYqgKqoUaopboGNQTZaLhaBw6BU1HZ6CFaDG6At2IVqH70Tr0NHoZvYl2oi/QAQxgyhgdM8HsMU+MhUVhyVgaJsbmYaVYOVaF1WKN8DlfxzqxPuwjTsRpOAO3hys4DI/HufgMfB6+HN+M78Xr8Fb8Ov4Y78e/EqgEA4IdwZvAJkwkpBNmEkoI5YTdhGOEs3AvdRHeEYlEOtGK6AH3YhIxkzibuJy4hXiQ2EzsID4lDpBIJD2SHcmXFEXikPJIJaRNpP2kU6RrpC7SByVlJWMlZ6UQpWQloVKRUrnSPqWTSteUnisNktXJFmRvchSZR55FXkneRW4kXyV3kQcpGhQrii8ljpJJWUjZSKmlnKU8oLxRVlY2VfZSnqAsUF6gvFH5kPIF5cfKH1U0VWxVWCqTVSQqK1T2qDSr3FV5Q6VSLakB1GRqHnUFtZp6hvqI+kGVpuqgylblqc5XrVCtU72m+lKNrGahxlSbqlaoVq52RO2qWp86Wd1SnaXOUZ+nXqF+XP22+oAGTcNJI0ojR2O5xj6Nixo9miRNS81gTZ5mseZOzTOaT2kYzYzGonFpi2i7aGdpXVpELSsttlamVpnWAa02rX5tTW1X7QTtAu0K7RPanXSMbkln07PpK+mH6bfon3QMdZg6fJ1lOrU613Te647SDdDl65bqHtS9qftJj6EXrJelt1qvXu+hPq5vqz9Bf6b+Vv2z+n2jtEb5jOKOKh11eNQ9A9TA1iDGYLbBToMrBgOGRoahhiLDTYZnDPuM6EYBRplG64xOGvUa04z9jAXG64xPGf/B0GYwGdmMjYxWRr+JgUmYicRkh0mbyaCplWm8aZHpQdOHZhQzT7M0s3VmLWb95sbm483nmNeY37MgW3haZFhssDhv8d7SyjLRcollvWWPla4V26rQqsbqgTXV2t96hnWV9Q0boo2nTZbNFpt2W9TWzTbDtsL2qh1q524nsNti1zGaMNprtHB01ejb9ir2TPt8+xr7xw50hwiHIod6h5djzMckj1k95vyYr45ujtmOuxzvO2k6jXMqcmp0eu1s68x1rnC+4UJ1CXGZ79Lg8srVzpXvutX1jhvNbbzbErcWty/uHu5i91r3Xg9zjxSPSo/bnlqe0Z7LPS94EbwCveZ7NXl99Hb3zvM+7P2Xj71Pls8+n56xVmP5Y3eNfepr6svx3eHb6cfwS/Hb7tfpb+LP8a/yfxJgFsAL2B3wnGnDzGTuZ74MdAwUBx4LfM/yZs1lNQdhQaFBpUFtwZrB8cGbgx+FmIakh9SE9Ie6hc4ObQ4jhIWHrQ67zTZkc9nV7P5xHuPmjmsNVwmPDd8c/iTCNkIc0TgeHT9u/NrxDyItIoWR9VEgih21NuphtFX0jOhfJxAnRE+omNAd4xQzJ+Z8LC12Wuy+2HdxgXEr4+7HW8dL4lsS1BImJ1QnvE8MSlyT2DlxzMS5Ey8n6ScJkhqSSckJybuTByYFT1o/qWuy2+SSybemWE0pmHJxqv7U7KknpqlN40w7kkJISUzZl/KZE8Wp4gykslMrU/u5LO4G7gteAG8dr5fvy1/Df57mm7YmrSfdN31tem+Gf0Z5Rp+AJdgseJUZlrkt831WVNaerKHsxOyDOUo5KTnHhZrCLGHrdKPpBdM7RHaiElHnDO8Z62f0i8PFu3OR3Cm5DXla8Ef+isRasljyON8vvyL/w8yEmUcKNAqEBVdm2c5aNut5YUjhz7Px2dzZLXNM5iyc83guc+6Oeci81Hkt883mF8/vWhC6YO9CysKshb8VORatKXq7KHFRY7Fh8YLip4tDF9eUqJaIS24v8VmybSm+VLC0bZnLsk3LvpbySi+VOZaVl31ezl1+6Sennzb+NLQibUXbSveVW1cRVwlX3Vrtv3rvGo01hWuerh2/tm4dY13purfrp62/WO5avm0DZYNkQ+fGiI0Nm8w3rdr0eXPG5psVgRUHKw0ql1W+38Lbcm1rwNbabYbbyrZ92i7YfmdH6I66Ksuq8p3Enfk7u3cl7Dr/s+fP1bv1d5ft/rJHuKdzb8ze1mqP6up9BvtW1qA1kpre/ZP3tx8IOtBQa1+74yD9YNkhcEhy6I9fUn65dTj8cMsRzyO1Ry2OVh6jHSutQ+pm1fXXZ9R3NiQ1dBwfd7yl0afx2K8Ov+5pMmmqOKF9YuVJysnik0OnCk8NNIua+06nn37aMq3l/pmJZ260TmhtOxt+9sK5kHNnzjPPn7rge6HpovfF45c8L9Vfdr9cd8XtyrHf3H471ubeVnfV42pDu1d7Y8fYjpPX/K+dvh50/dwN9o3LNyNvdtyKv3Xn9uTbnXd4d3ruZt99dS//3uD9BQ8ID0ofqj8sf2TwqOp3m98Pdrp3nngc9PjKk9gn959yn754lvvsc1dxN7W7/Lnx8+oe556m3pDe9j8m/dH1QvRisK/kT40/K19avzz6V8BfV/on9ne9Er8aer38jd6bPW9d37YMRA88epfzbvB96Qe9D3s/en48/ynx0/PBmZ9Jnzd+sfnS+DX864OhnKEhEUfMkf0KYLCiaWkAvN4DADUJABo8n1Emyc9/soLIz6wyBP4Tlp8RZcUdgFrYSH/jWc0AHILVcgHUDgBA+gsfFwBQF5eROnxWk50rpYUIzwHb/aTopi5vAfihyM+c38X9Ywukqq7gx/ZfwDN6wP3io2YAAAA4ZVhJZk1NACoAAAAIAAGHaQAEAAAAAQAAABoAAAAAAAKgAgAEAAAAAQAAAkKgAwAEAAAAAQAAAK0AAAAAZDWYoAAALbJJREFUeAHtnWmTFUd290U3zd4szaJGbM2+NAiQhBBaZiQhexwKha2J0AdwhN84/Dme8EdwPG+eCH+AifDYoRhbdmhBYhCIfUfsNDsImrWBbhr8665RPUlm1b3VtzOz7r38O25AVlbWOSf/WZUnz8mTmWOeP3/+iv6EgBAQAkJACDQmAi2NKbakFgJCQAgIASEwhIDUmN4DISAEhIAQaGAEpMYauPEkuhAQAkJACEiN6R0QAkJACAiBBkZAaqyBG0+iCwEhIASEgNSY3gEhIASEgBBoYASkxhq48SS6EBACQkAISI3pHRACQkAICIEGRkBqrIEbT6ILASEgBISA1JjeASEgBISAEGhgBKTGGrjxJLoQEAJCQAhIjekdEAJCQAgIgQZGQGqsgRtPogsBISAEhIDUmN4BISAEhIAQaGAEpMYauPEkuhAQAkJACEiN6R0QAkJACAiBBkZAaqyBG0+iCwEhIASEgNSY3gEhIASEgBBoYASkxhq48SS6EBACQkAISI3pHRACQkAICIEGRkBqrIEbT6ILASEgBITA2KoQnBz+q1osRIEVw3+ZlOtTqi+//DJT2giZn332WQQuEViU2LLULg/GEqWq8BXofaPJ1DTWV5n3DlOsWV8YWWPWO6BLISAEhIAQaCQEpMYaqbUkqxAQAkJACFgISI1ZgOhSCAgBISAEGgkBqbFGai3JKgSEgBAQAhYC1UM8rAd0KQSEQHEEBgYGbv3yS9/Dh0/6+1vGjJk2ffrESZOmTJnS2tpanIhKhkBATVMEVVC6d/fug/v3+x49ovyECRN4h6dNm1ZXL3AoNTY4OHjh3LkzZ85QfxOs33/xhXkZOU2TXLxw4fixY/39/SbrcqXiLTl65Mi1q1dNkVatWbN6zRozR2kLgR3bt1+/ds3KzLt8tbPz3fffz7sbIr/39u3z585d7OnhW7Doj21r6+rqWtjVRXdg3fJ7eenixd27dtVGs9yPojaZCz6lpikC1I3r148dPQpWbuHxEyZ0dnYuW758auAX2GWdmRNEjaG6ftyxw1JgmexjZp44dgwFFpNjEV71KVURyVWmAgIXzp/ft2dPXoGnAwOnT53it+GNNxYvWZJXTPkhEFDTFEH17JkzB/fvzyv55PFjYLx65conf/3XqLS8YtHyfaoxBp74T+7eudPb2/v8+fNodajA6MGDBzeuXbt3797169dx7FQoGfMWUl2+dAmsfrl50x2qx5SkoXnVyTvmYkjLHjp40M13c+gpqMWSpUvdW8oJgYCapgiqJ3/++ejhw1VL4tPat3fvlvfeq1oydAGfamzPTz+FFnek9NGsmDsjfSp0+fqUKnStvdPv6+vzTnP0BBma4IrA3ipIauLEiQVLqtgoEVDTFAHw/v37x44cKVKSMkyF7Nq5c/M77xQsH6iYTzUWSESRFQKNgsDNmze3b9tWXNq169bNfe214uWjlWw+A1FNU/DlOX/2rOvnWLFy5Wvz5mF+MQTnZ5K6cukS/rfpM2aYmZHTUmORARe7ZkaAACK3esR0rX399QULF7a0tJw5fTp11zBDvmzFCrd86Tl0WOs3bixdDL8CqGkK4ok1ZpXs6OjoXrcuySRUijkjK+6BWRKpMQs0XQqBQghY3xLPzF+wIP3eLBKtLcGXSDLNyaS3xZegxPfef79j5swkn1HtokWLThw//vTp03Xr11uFvV92zp37u08/rUCWaLT9e/eaBRB4zdq1Zk4TpNU0xRvR9dXPnDXLfHz27NnWp/fwwQOzQPy0T2vMjNAlTPO7b76JXx+LIzHrZth65fAb69lwl5ZUIwocDydVE1Ce0t4+adKksipC9L+1kANJ1qxZk+qwRDAiu7B1nj17FkHOscN/eYz6nzwhotq6i5+zvb3dymz0SzWNxxZ0QxMZ+nikXwOp4EPUGmTSI0KgKgIsAXTLjBs3zs2MlmOt/IPvmDFj8CVmCoCDMTM/ZiarFYmcNjmyWrEpFwCoacxWrpyeOnWqVaCnpwe3YZppmWLkz3rRXEtLRkuU/y1Fq6oYNRMCmWoM24OVDNjc/FhUHrm+j19UCXBncei48eMji1GQHQCyOtsszBSI6bowbzV6Wk1TvAXdWS7GOj/t3Jl+cTiiTWrEKLGvh5kTP+3TqRhfenEUAiYCTPOYQVbs+bSoq4uf6wYxn/KVdhUnAkCcKfFLPT137tyhM8XnSYQ9bkam8VC6vljXQOfs6dPWU4ubd/mamsZq6wqXvJkE3JvfEYVZDfzt11/PnTuXYZnpOZ88ZcrrGzZUoBbnVpkfUpwaiktTIkCIhFsv69vDE4LfjB9GBu4yt7zfnEfDm86ZNMePH3/40KHTJ0+mmYlDhh0QWM64YtWqhYsWlaLMmMZnD5FUKhIo13nz55s5zZRW0xRvTUZaBB8dOnDAeoQ4DuudQYexwVuJs9GphHIqplAo0UgIDGapsbwKsAkZS1/z7nrJd+O7IHvr1i1Th5mM6FjZwuPkiRNmZrQ0nZQ5poYvMY11tdmrRyjUNCMFc+myZawGqfrU5i1bEn9D1ZKhC0iNhUZY9OsCAWyy+HLgiqnMlL2z3Wmbyo+M/i4eNndhAGps9JQbiIKapnJjYZBVDfbZu3u3u8isMtlAd6XGAgErsmERmNHR8dbbb6dzy6zKZEkWnkNmwjKtitu3brFTXFiZRk492SN45M+N6omzZ89az4PYrNmzrcyX/PJlbhrmcVkFdM55T6xXgqEAq6oIp4qzesTibl5qbsxEQ+lGQoBYdn5XLl/mBK8Zxl44+EN+2LbNcppRMaaj2GMp0FzU2Jzzw4jm2LBxI+qWFbgcm2IFoSAVseAs1YqGOz0OiFnsZs6cGQgWi1Epl2qaEcGOsc7nY24KyjvMCmgO3nK/KYrhG+fdXl7qfjSyxkbUxCpcdwiwc5Kpw5CPMPfM6Ck+Nvc79FWfvMD6d7ZsSUxGLB4sxTmvvmpxvH/vnpUT9HLoAE9nYQBz9UGZlktcTTMi/JlINnUYz65avZqR1keffJK3/ydbrI2IhffCUmPeIRXB8hHIm+lxe3CPsrp71SOGFevvri1FADeOzqNUFimi/60cLtn9xM1sphw1TcHWZKbWmjfF1ZE4nIlIfOfddwlNdPfseNTX566JLsjRSzGpMS8wikgJCFTwyOftkcG2GuEEZbrOIv7QOeKuNWutmLVOwCLi95I5QpdgnZzh6wrmK0dNUxBJXg/rbexavNicbGYSuru726XGQW5uZrQcqbFoUIuRZwQOHzxonRmRMrh540aaNhN5/iWzTM1pN/gYh6Fl/1mXCa+2iFvSuZoVGVjfVnOtG+JBNU3BZrrr7H3jbvDmjgkg3ucsmizI0UsxqTEvMIpIbASYiCaSipNaCZqwYtZZ9cyiY1cg3CMTQh64zkDVZUpYh5nJltnmJWm6iZhqLDNCOqYAVvXjXKppasaZHcuYVDYfz5xgNi02s3CctLdIxX179rA3QVWh/+0Pf0jLMOP9xltvpZfeEyx7/OpPfypCNqZUWN/ff/ddVakIqzPPrea4jXpYLV9V7DgF2N5tz+7difeDzwybjMnnZIIHNz2aw/rwEqneePPNPGejF7GZQmifOtUK2UChjmlpYZLs2eAgocmEMlu8MntYq4yvS7Y+IcTDpdb0r5aaxm30zBwrWooyRNUfOXSIA/MSRcWnd9w5FYFi06ZNyyQYJ9ObGosjrrgIAQIitn//vTmljNKyjB4XJXaKc6ME3WKjzFnT3b3rxx9NIuhaIpL5mZlmuuoiU7PwKNOZ+1k0fXxHApqapsjLg77HPWDZWwy/2OSeqHsosDGNFcdIJhE0SRhIERYhysipGAJV0QyIABrL1GEFObGBYcGSoylG9H+RXXxSFnz81pmE6a0QicwdvJrvdLFM6NQ0mbBYmSwfzIyqR3VxZhs/V4dBoWvJknKdilJjVjvqst4RwHxZ3d3tzjxXkHvl6tXRnB4cnYzlV0GY9BZzdd1xz1nOjOxvyVm4ncrZNAk1TZGm5ONy1ydUeJDxwZIlSyoUiHBLTsUIIIuFTwQYMLIek4lVXPZVfYkMLfkso+kw6smw9M1Nm1hQzKbAmVN0lCHuf+ny5bi5Io9hM48FKP3MQ58vR0VaapqK8PzlJjrsw61bOceHECrLu2g9zkvODjURfPUWX/fSmxqjv2B06TKokDM98GFrxF/VcDxHaKlAqQapmj6WrMJ7knmLj23T5s2ECBFbz+5KBFY8evyY+A4Kc4sPDF8ZS17cMwAzqfnNJJAEFbVy1SqcMCha1uIkZhCCEazMjwGsGwLuV4ZMapnvnjurn/lsc2SqaYq0IwG9WK7LV65kKTRHQ/BxEf2bqLTk42LoQ9QSyw0jj8PyhPepxjKdqnmMI+TT9dfhabZEhdWhVBGaIwQLviI+J34hiI+SJrKhrviNko7Hx2cP/3kk2KCk1DRFGo7+k/Pw+BUpXG4ZzY2Vi7+4CwEhIASEwKgQkBobFXx6WAgIASEgBMpFQGqsXPzFXQgIASEgBEaFwBhrI8hREdPDQkAICAEhIATiIiBrLC7e4iYEhIAQEAJeEZAa8wqniAkBISAEhEBcBKTG4uItbkJACAgBIeAVAakxr3CKmBAQAkJACMRFQGosLt7iJgSEgBAQAl4RkBrzCqeICQEhIASEQFwEqm9GdXL4L65Uf+G2Yvgvk3V9SvXll19mShsh87PPPovAJQKL2+fO9RY4fzWQJEs/+iiTcolSzejq6li8OFOqM99+m5kfITMPqAisLRbqCixAKnQFzdpBVVdjFka6FAIREBgcO3awrS0Co5TFuEeP0nReon/ixLxbIfJbBwZanz6tSrk+paoqtgoIAV8ISI35QlJ0fCKADhsY4YEJo2RfRI1FFumVvr4iaqw+pRplc+hxIVAcAc2NFcdKJYWAEBACQqDuEJA1VndNIoGaCYFng4MchDb49Ongs2djXnmlbdw4jv3k6GpOzmymajZiXQYGBm798kvfw4dP+vtbxoyZNn0657FxDlydnKFVJ5CC0r27dx/cv9837HXnKDKA4hzaukIpoBrj6FtOXbt//77ZHqUftYVU58+ds041LV2q3t7ea1evmkDN0tFQJhxZaRBLjqPMumnncdxf5GPJHj9+zMfPeYPutqXosPapU+kxx48fbwvq9RruHCtaG8nFZZ9MX5vYRZ7qvX2bTuBiT497PPfYtraurq6FXV2hTwznPNXdu3YVkdYt8/svvnAzvefcuH792NGjYOVSHj9hQmdn57Llyzk5070bPyeIGut/8uTChQtnTp1ye5kSFQbHmKJWL1+6VG9ScV745cuXrbbnhGgUmZWpy4ZAAL118+bNhw8e5ElLAUa4/DhDlfFKXQ1s82Rujnz01oF9+3ouXMirztOBgdOnTvHjEOA33nxzXOBxRp4Y5eZjoR7Yv5+zy/PEePL48YXz59HEnMBeD6cle1Zjd+/e7Tl//tzZs+4wJw+RCPlIdfjgwZqHpSEkTIzCE8ePo/JD0H8ZaLpWTp3UmkPfK+gwU8i+vj5GV692dpqZSodDgM63gg4z+TLk3T9mzOYtW8zMlyR9+NChCjosBYFO7OCBA82mxv7nv/4LJ0ZayXpI4Do4eviw5UIsXTCkOnTgQF1p+tIxqUGAp4ODNTwV+hFs/dtZfpg8vu3t7Xm3lO8XAUYMR48cKUgTx+/CRYsKFm6mYkwDocIL1uhRX9+unTs3v/NOwfKBivm0xupNhwEZfUq96bBEKumwQC90uWR536w5zsryzOjomDR5cuUypdydOnVqKXzDMcXNu33btuL0165bVw92hivwkqVL3UyPOefPnnX9HCtWrnxt3jz6UiYU+Znsrly6dKe3d/qMGWZm5LRPNRZZdLETAvWGADEdrkiM61FXWF0k7vDX25uUQVVMnz7dLV96DjN2M2fNKl0MvwJczJoPY1Zy7euvL1i4sKWl5czp03huEqYELyxbscKvAF6ooUvWb9zohVQeESsoj2IdHR3d69Yl5XGAE49mvecYMFJjeXgqXwhUQoDZeOv25MmT+eSszOQSFZKZ7zGTMSxzXRZB+BIhSZhykj9jxgy0F9Ffz54/j6AqUEgLFiywRDIviaIm6NzMSZSumdMEaZwfrqOMoMT33n+/Y+bMpIIYHIsWLWK6+unTp+vWrw9da96K3336aQUuBAru37vXLIDAa9auNXNCpN132HpRCT2z1FjBmeAQ0iY0fVpjBNelgj5+9IgZoPSyrARhYKZUdB9Fpi5DS2tJhZFe+nsQuspx6A+tyoq7hZVZL77/Z8+emTmkscNSHZbcwgLgBXD9NtaDXi4xMvjLI0Xnzsjauku3zrI2K7PRL/nq3cmFNWvWpDosqSBx5Ng6biOGqD7LB/nLo0zkF8Hu1l38nPUwkwpKlmAlfnSJJLk4WoIWuTSD6ZOVGUWeClpmePHV/w9bP3vmTD2oMUsqsJIaG+lrwLJi95EKXbZb2HsOYcouTRaHuZnkRLAOM/mamUNG4Ysw4uRsvlkxquxOWII/vkQTjTRd7luUiEEoCkHtqUgkGI7HWcnHC0Corcm6p6ena8mS9E22TDFKzirbBZ07UjOrobQQqDcEMofMdEC46VlfwV/8lQxu2A7WYd2uCQNAaxaEtdjYjvXW0F7kYSm6RYd1u3W7JoyNMyxXFq5y00iw6uL30p3lQqH+tHMnUiWM8HaaHAmEYV8PMyd+2qc1Fl96cYyMwD/8/d+bHP/288//7vPPzZxy00RUmwLgtGGzDPwwcXSJ67ZqG/ZwPnnyBOWKWmWFwJAjqbUVN+PkKVPKHfWj6U2sSIOVldM0l6w0t+qS2Bb4VC/19BB2g55jHpGtXnAzzl+woIK7z6IT4pL9ECyyiwNHJ5rsqP6xI0csp/fdO3e+/frruXPnovvN95zX+PUNG8zHS0lLjZUCu5iOFgFCJKqSYK4evxk/fGUR7AzXGkNj3bp1y+xDk7AUtBodKFJNaW8vRZkhhikVSKLpU69RVWAbroC7cQ+mJ4t8T588mdYl8ZWxPvrEsWMrVq1i0VgpyowZVvYQSaUigXKdN3++mRM0jTonwoWFrRYXJj4swdBh777/PuWtkvEvpcbiYy6OHhDIdCrm0WW43dLaGnSXPDdsEmEePHxoTT6lEqLz0HAECrI3XZoZJ8FA++q1axaAmGL1MF0XAgE39A4ubP9mTT6lrNF5B4e3Ytry3ntpZpwEb8Wff/jBNHfgy7xUHHdCWsely5YxpmHnI8vtnBZIEsR21snQR3NjVtPosjkRSFdrxaxeng5LZWATBFyO6WWcBN20q3QZ8sfhXidc8nRYKh5RIa7fNb0bKIFX3A2gePXVVwOxq0CW9WFVTUDWA7jLGCrQDHdLaiwctqIcEAGml2bPmUMMRcKDXph5ZmanGR5mWhUYH25weUD5CpOOH6TqWicg1nxB9oVbILegtV1Fbjl/N66+eMwFhLHD4s9Z4r3YsX07S+iq1mzP7t2Ef1uWfdWnvBeQU9E7pCIYCQE0Fn8PHz5kDsM88WRafz+DRPfTYpoav2KguagxOcuzEIzVo/yLK48pMSsIBaRQKtbqpaDwIQaIWSwQLxAsMPr3P/7xP/74R4tjwcv/96//WrBkhWLMUGbeBfYNGzcy+sGVx2bt2BZWXAMGGUu1Mp8Nkckbe8U56WLmzJmRp+iYNP1h2zbTXgco3uELzvlWgEAxHLAAuLzUTU9kjYV4IUUzHgLs3GHqMBhjWGQqBjqpql6+muXOm73AOZOIh8VDzKTru0vjmGtmPaIHYeeCkBq1IyLVKIXzAuvf2bIliRSn7RZ1dc1xfHfW8qnQ9R06wNNZGEAYRWi+Fv3jx46ZOoy7q1avRp1/9MkneZtMso+XRSTypayxyIA3Bju8Ctu++66qrD+fOMFY2ypGzELpO16j21y7BzmHQt6DbfNBb8iw1ESD04Qt9YaKdaPmiKiMNuLOXE7Xlr+dhFmdxk0zerBgZy8oazcKlv26eyPwlDvyCIRDptObWNZA7DLJsvDAmu7iHWbTGQoTkfjOu+8C0U+7dll6jilepvQii2rKLzVmoqH0XxBAjRVxBKHG+Fmord+wIY4aw7rKnAZDnpHmW1Wo7RKry5p2sr72IcEyfY8FFg/UJpL7VGZESXNbY4DAcotHL/rrXM9qa5Yut9yMLp4ec27fuuVSi3y8MjJYVe5avNgciuFd6O7u5pgxS1R25pQaszDRpRCoggAfG8NGPjD8h8kqY/OBzIEtBYIaPRMmTrTUGB481Ibp88x0IWZ2oGZ1PKYz1VhQWHCl5jmjPNarMinsCWvaCYfh0Fypsf1EZqyN2XaVWYz+bmZgJEuyR0+5OAVXBsvBAKnMJZgsHSnOxXtJWWPeIRXBGAigMJIeGTfIkIPIOGyeW/RQrhCUMceVboFR5lhbACfUWHljyob7xeKCkzPPdrRKernM1KMtIbf//3jrVn5ehK+ZSOIWsx7nkPoNb7yRZroeRcyLoC9MyjpJZE7Fsd7RKhb58uSJE6wPM0eKriGLSON/jRmOLF7CzpsaY2iMJyqtAzvcp2kzwfxhekmAdNBhGl+steycDR1S7mYiplR0suwUYHIngM28TNJM7ZhScQCS+Sa55V+qHGK60nVgpHn3cNwnnjH8eJmfGfi4m8X5BQ11RRtZeoK+aVxbG+Kx7QhpN37SVHJ+5XGpwd0VgGLh5gtdGUrJIUKVsHVLT7BvIS47xkDEvBA1bi06Rk5O1YkmLfOjrgBwj7xHRmaV2ZuKU9kSjT7UqRpbn6T4xA9FSVmT8KnGrN7ZZJOm2eglTRMdFFqNmexSvm7CLBZaKsbjJjtXmCQHNWYGKSBVTDXGVqT/+E//5Mr2f//lX8zMtzZt4mfmkA59lgQfPMtrzGknHIxDqsuJIzcFI+gjQo+Av8XaOBUZ2K2DP1MYM82ej+Zl0DTQufSbXoclVV7T3b3rxx/N6vPaECzOz8w003F2lE84Wu7oJDP+bBNmK1FIlkJFx7PJPVH3SMWbbH56iZxEwWTau8ndCP96U2MRZBWLaAgQtbXp7bdddpYa4yzazGLugx5zmMNwP6Sq9M1ZkKqFay6AsgS6ey+ec1GBGn5IZtQqFPB7K9MUizk88ludEVHjXcWlYblnKlCgX7aOi6xQePS3BrNGGKFHhK7YzJJiWrgGCV+c63RNH4+/XVbKOklo3ZgFiC7rHQG8Q7g+RrRcFx0WzXdHyAnKrAiIeGkyZ8uLPFtbGXe6HjoxZ+ZqE9vXUxydzPbtRagRZd4d/pxlUxJrPUByq5SJsdXd3SNaY8D4YMmSJWZd4qdljcXHXBxHhQAKbGjTqfZ2goPzpsFSBjgSKRxNh8EXrcAuWWN7e9kNwYpdTqUiwawMntvIKiTTGsuMTDFFHWX6m6+/5lcbkf/zz/9c24OZTzFueHPTJmZxmN3J1Og8RYssXb4cD2TM4A74Zvp7SzmOEh324datHBZDCIzlXbRQBUm2QXGXjVvFIlxKjUUAWSz8I4D3g+8HPcGkAtsf9A8M4JZJ+iY6IBxl/OGTsZa4+pcjiyJdISoKkxHRiN9ha4ZUMBQqamPS5MmIl/Vo2DxAc+NcQut4YjWtFbVhK1mROmMgVNTKVatwkbEBFSOhxAyi78Yy5odtwQ5nFWkEuYn9x/nOFunMgAurTIhLXlEs1+UrV9JwzNATGsNrnKg0gEJ7oV8JjWEoFlnZ51XWmxp74623+OWxKSWfkfjvv/iiFNYVmOJwr0OpKghcz7dQGHjwCjrxIlekDmWjD+IvMg51yI7OF3XFr35kmz38Vz/yIAkjLQ5d41dXUmUKo7mxTFiUKQSEgBAQAo2BgDdrrDGqKylHh4C1QCJcJFXrwAB7v49OWP9Pt8UVaQiEAn/1KVUBwVVECPhBQGrMD44vCRW/U+4VQGt9+pRfhQKl3GJb31L4VmZan1KlMv/d55/zSy+VEALeERhTIZjKOzMRFAJCQAgIASHgFwHNjfnFU9SEgBAQAkIgKgJSY1HhFjMhIASEgBDwi4DUmF88RU0ICAEhIASiIiA1FhVuMRMCQkAICAG/CEiN+cVT1ISAEBACQiAqAlJjUeEWMyEgBISAEPCLQPV1YyeH//xyLUhtxfBfZuH6lOrLL7/MlDZC5meffRaBSwQWt8+d633xWNEITFMWSz/6KE2biRKlmtHV1bF4sSlMmj7z7bdpOnIiD6jIYsBOXYGFeYWuoFk7KFlj1jugSyEgBISAEGgkBKpbY41UG8naLAj0T5w4MGlSzNpMzj+gORXj4fABuOll6AS7TBXZoaM+pQoNjugLgRQBWWMpFEoIASEgBIRA4yEgNdZ4bSaJhYAQEAJCIEVATsUUCiUaDIEH9+8PFN4+uG3sWA6MjlzDgYEBDo181NfH2b7Jycvjxo3j7EpOqkQYEqHl4ajDqgdk58lQ1pmNefL4zedE0/Nnz16/fn3ozNX+fg6HmzZ9OicUUuuFXV2hT8SmLhwOfvny5doqtdo5YLM2OlWf4nDRG9evI+rQazy8Lzanvk6fPp0TazmtDbiqUohTINSHxHG3F86dO3PmDH2NWZNyT4ykW7l44cLxY8esw7nLlYq35OiRI9euXjWB4ijYaC+rybeB0pxIm3xaRWTmuMiYauzJkye9t2+74vHi8UcfeufOHUTiLOaghy/D605vbxF83DLNqsZA/tiRI/TO5q7opAGK35XLl08cP/5qZ+eKVauCInDv3r0Tx465sBfJidAz8PYeOniQ07EteTjKHN3G7/DBgwsWLdqwcWOE0Zglg3sZRI2hun7cscNSYC7vyDm8NCiwyEyrsqtPqaqKrQIVEMDw4jtnJFehDP0mygw9x6gWE61CSd3yiAAD2Z07dmAfV6BJw6HMaMGPP/kk5tCngkiRb/1y8+YP27ZVZYpJMGnixDVr11YtGbqATzV2safn1i+/3L3DmKbXHOmErkMF+gzYb1y7xsAn8R5UKBnzFlJdvnQJrHhdKnd2MaVqOF51C13xZuUzwRafNXt2w4HfoAIf2Levsg5L68XbderkyY1vvpnmvCQJBmEHDxwoWFn8bRylO6Ojo2D5QMV8qrE9P/0USMqayaJZa7bca2Za9cH6lKqq2PVW4Nnz53Un0uAgA6bHjx8XFKxt3LiOuEH8BQVjrqhgyUYplthhjDAKCjx12rR169cXLByzWGtra1B2ly5eZGhlsRjb1jZz5syB/n7LRHk6MIDd9jeffjpu/HjrkZiXPtVYTLnFSwjUIQJ3797N1GFMg/Gdoxm4mxZgVoyp8paWuosWbmtr6+zsrEN4RyPS6VOnXB2GtqYJpk2bRuL27ds3b9xIWHR0dLy9ZUs9zPpYVW5vb3/3gw+sTL+XV69csQjy9n64dWsS9kKsx/fffsuca1oGsxXoOufOTXPiJ6TG4mMujn4QYCRoERoKmpg+3cpMLuNoiwcPH7rcGcYytE/z6QII5xnT0sKsWJoZKAEgcyv2L08HB9O+O5UBA5HRd3rZHAmMDLcir2/YsGTp0jQfK2THn/+MufPbjz9OMwMlZs+e/ZsPP6xAnOHOTzt3WgUwEEPHB7qhraioNHQTPYrit8Bk1kZqzGopXQqBGhEgVmLCxIk1Pjzqx9BPrmbl+2+fOtWkjZBMJ8SZ2KNHbq0IyI1f7Y9UQgRG+aWXzZHAhnAjzmbPmdP14maVjDbe/81v+p88iVBrItf5VWC0Z/du6y4C87MyvV+6b6Yl5+TJky2m7iNWgdCXPq0xM2ydeM3vvvkmtPRV6ROZagannj1z5uD+/VWfCl3AkmrH9u2ERYVm+jLQx8QpsZqsQHK5M/vtzjPhtePPLRw5h3H3wwcPTKZoPTpKV2CzTCOmr2at0CLEzrXRp0yZ8gq/sv/w7BEHaEoxcdKkNzdtcgU2y3hJ4+u2VL61ZiNZAWnyCroywWSUly7zs8+TSflCoCoCrt3DI+XqBtaKWWKjD1JvjHWrHi7dmfw5c+bU4YTQ6LEiMMEigsJmAszKrJ9LZvIsYTa9/XYcK3lIkb/4hw/cHGfjQnzx/iumz9y6FefSpzUWR2JxEQJ5CAyZFw8fPn/2jAJ0x6iQSZMnRxjAJvIwz2QJli4IYwCLksP3glRjW1vrYeYJedJgk0RsnEUlumQt6PxePh7egcKkycLz5JIIRtYIAQXmDnoi9MyTKUNeGqVrRaPMX7Bg5qxZeeX95s/p7LzgnJS0d8+e7rVrmc1lPxpLtu5160oHTWrM7zsgamUiYLn1mBFpuXVr8pQpxH1EMDIIR7Yqj3VIL3nr1i1rrRKmAFsfTZ06tUT3nbtBQ+mrfyz0PF4SQWpRw+bgbWGBlLV7Dpps+YoVXUuW0EbWI9Eujx4+bPFa091t5YS7fO2113g5Ue0mC4Y8+/bs4ce40JwJY35kxcqVZslS0nIqlgK7mI4WAdf0yaSIGXT/3j02ZUCdZBbwlflscNBd8s/KNlhbOgyOdARoEZYPWnrXlzBV6TDbYZliDKjLdclWlbnmAjS92fMmdMj89uuvLR3GLfZVYROm//nqKzfuvGYBRvTgyZ9/tmJHCQhiKDYiIqMpjPdiy3vv5XlczTd23euvs2feaHj5elZqzBeSolO/CNCLWdPU3mV1571hwTefmZ9wRyo2cvEuSVWCiOTOFZXuF6oqds0FMkcwDC/MxU8WcUYexXeysJ4dzSWiuqYYamw0NGt4FpOUJQdVF4Tce3G/3BoY+XpEaswXkqITFQGchCOyHpgzq9BtRRXdYIYmQzAjI0bSik5MWFpB1THkqG8eaLL4Bhl71LmosO7QzQydQ6h51YUHbP6+f98+19INLZtLX3NjLibKaQAEUGPz5s8f2iq+t7d17FhmvwgUZqqJ8Sw57Fpp1QGPH1PTVQeY1lNeLjF02MIDATDOXMsAn6e7EMcL3zwi9x1wADONRsl7qinzMXSYB8IhfPXqVRrCquO5s2cjW0L4mS0ZmMOLvD0xxvr+vXt7jHD/ZJowU10NHXZz7dp7H3zAsmhL8piXUmMx0RYvnwigtFAAKAkzUAITjZ12CcNzFUYSKxho6h5Vmlk3NjpKd00kTT9lTaFFthHhznS9JWpz67C8o3CWrVjB7E4CxbLly7/6z/+0emo3stzCze8l3K0gQOjHj2W/du2aqcOQgThJ4jjyDi3BbD31889vvPWWXzRGRE1OxRHBpcJ1h4CpwxLhyMmLTrb6KY+VgSl/FkGsnDSwm1toUHcKCpEqzJ9ZBEd/iS53iYzIPes+Xuc5wM6fJSRBE+bGCPhUXcOLDpr4cuvBcJduOCW8IlvqcDx+9KhVR3Q8FuGHH3+8afPmdExmluH8z5hAmayTtNSYi4lyGh6BvIWiQRUG29VbwKEerFVrbhkewallPRju0l1BBa/mtsaoIHawBSm+OgYZZmam7y6mrWwFKCayTft1fZsparg0p0dZi+Jx3ScWIS8zZtkHv/0teypaArAXAQ9amTEvpcZioi1ePhFgqinTtoBHXr6lVHxK88or4x01RlC7pTiTpdkWX9eMswp4vHziLG6DeKZy9ci0dFJMgFky4L6zDIjBLMOrNeL2ZtZSrUTg9oih9nDkaGwLKOswPL6glatWWWW4zDQl3WKBcqTGAgErsmERYI6HbW0JmybKw+XkBpQnZYJ6z9gBwpIEIa3lWe6MHY/kzatZ1LxcZgsQsbP2UouREmFnCusRfLmWAZEZMhozgNONS0LmyOd4udan+ym5HlrkDOeutxou81JqLBMWZdY7Agwbk1iJG9evs01G+vnRTTPQZlbDrQBeo6B2T2YoAWGTqUGGbKyutQSL3E9l7kUZ1Ei16lvKJYt53aY/cfx4apChQsxtAxMh85YAB6qCtSFvwiXowMutiOte7jl/3jIT+eLcB9nIy82MlvOCd3g0XNmnxN2JyyX4b3/4Q5q5qKsraHwL4/Sv/vSnlF2FREypGAN+/913FYRJbnFotXlu9e8+/dSNDqhKpFkLEEKWLmdGmeHNtxz6bsUZQoZef8NcC2HH7IBlcse9yWIgdndETnRYonrNAjHn8Om1XQEQpsWJgDAlbII0+NPbnD93zqwLG6l8/d//zY7+WBJ0za498dr8+Wb5oGneDVcAOEZWY5kHwWz//ns26EpuEcf48/HjLhSW79EtEDTHmxoLKqWIC4EUAQbOljsovVUhQYRVBJuDbQmxC62ZOZRHpr8IadF8UyMuuEmNDxMo1xdq3m2aNDvbMtbhnGKzRox08wbfjBqt08jMB72nM0Nv3OBJ73wtguzzibqygk14pY8eOWKVNC8XLFwYc7ssk3WSllPRxUQ5dY0AUYiZ3vkKQjMYJzKtQgFftxCMY3CLi0cEXUxLKHVv+qpvA9HBefvuBx8U19nLV66MaQmlXvHSIUXfj1SGVatXj/QRv+WlxvziKWrBEUBJMPpzQ6jzGDOsjunxwOYjIrmqcmKqBiendTB0XhV85WeqsZidta+K1EaHmr69eXPVqA12OVu/cWNMU4zqZIbeRH49ElTxKLChfsGh2KxZsz7+q7/KXKtQWxvV9pScirXhpqfKRAAdgJOQjwdnHdEceSNZ7Da+yczIi6DSY/zNmzePGfsH7D7lBLgjPB4YDsy11i0FFSkhnhlTHl+MCDXNY8Fr89HWrTgSr1y65MaI03fPW7CATjxv3WEe2dHnWxGtCcH4YiR8V65evWTZsrOnT58/f97c0j6tJkAxNOQlX7BoUQRffco3LyE1loeM8usdAaKqhmLJOjqYHh/a+ZcpqeEtKtBbQ6cfTpoUX4GlkKEb2L+DH4qWKZlUMMbXJe4+x/IpdwVVKvNLkkA34ATjR+jNmVOnCHOl4ljGi5cuxcovCwR2yuBXFneXL5Yryowf89AsayGyIwmkBChWLyxevLiqUevSDJfjTY0Rcxg07LAGCOjIfv/FFzU8GPQR9kmqQ6mCVjk0cTom/kJzqY3+0NauUablahPvZX6K/Sn4vcwIFKk7/RW/devXFylcVhnNjZWFvPgKASEgBISABwS8WWMeZBEJIfArAuMePeL361W9/D952AFVL9L8Kkd9SvWrdPpfCARHQNZYcIjFQAgIASEgBMIhMCZzVX84fqIsBISAEBACQsAjArLGPIIpUkJACAgBIRAbAamx2IiLnxAQAkJACHhEQGrMI5giJQSEgBAQArERkBqLjbj4CQEhIASEgEcEpMY8gilSQkAICAEhEBsBqbHYiIufEBACQkAIeERAaswjmCIlBISAEBACsRGQGouNuPgJASEgBISARwSkxjyCKVJCQAgIASEQGwGpsdiIi58QEAJCQAh4REBqzCOYIiUEhIAQEAKxEZAai424+AkBISAEhIBHBKTGPIIpUkJACAgBIRAbAamx2IiLnxAQAkJACHhEQGrMI5giJQSEgBAQArERkBqLjbj4CQEhIASEgEcEpMY8gilSQkAICAEhEBsBqbHYiIufEBACQkAIeERAaswjmCIlBISAEBACsRGQGouNuPgJASEgBISARwSkxjyCKVJCQAgIASEQGwGpsdiIi58QEAJCQAh4REBqzCOYIiUEhIAQEAKxEZAai424+AkBISAEhIBHBKTGPIIpUkJACAgBIRAbAamx2IiLnxAQAkJACHhE4H8BH8m2aixOF0kAAAAASUVORK5CYII=)"
      ],
      "metadata": {
        "id": "-5kiUj_NU7IY"
      }
    },
    {
      "cell_type": "code",
      "source": [
        "a = np.ones((3,1))\n",
        "b = np.array([5, 6,7])\n",
        "c=a + b\n",
        "c"
      ],
      "metadata": {
        "colab": {
          "base_uri": "https://localhost:8080/"
        },
        "id": "PbkU1nx2VA2e",
        "outputId": "00222534-8ac3-4733-d666-44192cd6ede9"
      },
      "execution_count": null,
      "outputs": [
        {
          "output_type": "execute_result",
          "data": {
            "text/plain": [
              "array([[6., 7., 8.],\n",
              "       [6., 7., 8.],\n",
              "       [6., 7., 8.]])"
            ]
          },
          "metadata": {},
          "execution_count": 24
        }
      ]
    },
    {
      "cell_type": "markdown",
      "source": [
        "![image.png](data:image/png;base64,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)"
      ],
      "metadata": {
        "id": "JAzuaD-9VX6v"
      }
    },
    {
      "cell_type": "code",
      "source": [
        "#a.shape\n",
        "c.shape"
      ],
      "metadata": {
        "colab": {
          "base_uri": "https://localhost:8080/"
        },
        "id": "cvo1mA0pRL6g",
        "outputId": "339c85e2-1e49-4344-dd5c-413bcfb5a401"
      },
      "execution_count": null,
      "outputs": [
        {
          "output_type": "execute_result",
          "data": {
            "text/plain": [
              "(3, 3)"
            ]
          },
          "metadata": {},
          "execution_count": 26
        }
      ]
    },
    {
      "cell_type": "markdown",
      "source": [
        "### **Summation**\n",
        "Sum all members of array together"
      ],
      "metadata": {
        "id": "Oz0fFkIbVeYg"
      }
    },
    {
      "cell_type": "code",
      "source": [
        "a = np.array([[1, 2],[3, 4]])\n",
        "np.sum(a)"
      ],
      "metadata": {
        "colab": {
          "base_uri": "https://localhost:8080/"
        },
        "id": "L0OyWH5LVq2g",
        "outputId": "7e3bd34b-a409-4c6f-b41e-6453cc66a0db"
      },
      "execution_count": null,
      "outputs": [
        {
          "output_type": "execute_result",
          "data": {
            "text/plain": [
              "10"
            ]
          },
          "metadata": {},
          "execution_count": 27
        }
      ]
    },
    {
      "cell_type": "code",
      "source": [
        "np.sum(c)"
      ],
      "metadata": {
        "colab": {
          "base_uri": "https://localhost:8080/"
        },
        "id": "BNfhgbPQYNop",
        "outputId": "94664a77-0a5a-4cff-b517-14f94943a800"
      },
      "execution_count": null,
      "outputs": [
        {
          "output_type": "execute_result",
          "data": {
            "text/plain": [
              "63.0"
            ]
          },
          "metadata": {},
          "execution_count": 28
        }
      ]
    },
    {
      "cell_type": "markdown",
      "source": [
        "### **Subtraction**"
      ],
      "metadata": {
        "id": "9ic5UbVeWNhp"
      }
    },
    {
      "cell_type": "markdown",
      "source": [
        "a-a is equal to np.subtract()"
      ],
      "metadata": {
        "id": "BqkoFhKfKBS-"
      }
    },
    {
      "cell_type": "code",
      "source": [
        "np.subtract(a, a)"
      ],
      "metadata": {
        "colab": {
          "base_uri": "https://localhost:8080/"
        },
        "id": "T5F9ym5iWPpN",
        "outputId": "1b0c014b-1e0a-41b7-95f7-a3140934b4f4"
      },
      "execution_count": null,
      "outputs": [
        {
          "output_type": "execute_result",
          "data": {
            "text/plain": [
              "array([[0, 0],\n",
              "       [0, 0]])"
            ]
          },
          "metadata": {},
          "execution_count": 16
        }
      ]
    },
    {
      "cell_type": "code",
      "source": [
        "a - a"
      ],
      "metadata": {
        "colab": {
          "base_uri": "https://localhost:8080/"
        },
        "id": "2rNZMrjWA0d3",
        "outputId": "679a8ac5-ec46-4eb3-bbd3-362799f70708"
      },
      "execution_count": null,
      "outputs": [
        {
          "output_type": "execute_result",
          "data": {
            "text/plain": [
              "array([[0, 0],\n",
              "       [0, 0]])"
            ]
          },
          "metadata": {},
          "execution_count": 17
        }
      ]
    },
    {
      "cell_type": "markdown",
      "source": [
        "### **We have broadcasting for subtraction like sumation **"
      ],
      "metadata": {
        "id": "3_oASlb8dtra"
      }
    },
    {
      "cell_type": "code",
      "source": [
        "a-b"
      ],
      "metadata": {
        "colab": {
          "base_uri": "https://localhost:8080/"
        },
        "id": "Y6gzvuhbdqXY",
        "outputId": "b238ed5b-ebad-4a69-d6c5-57b4e25aa75c"
      },
      "execution_count": null,
      "outputs": [
        {
          "output_type": "execute_result",
          "data": {
            "text/plain": [
              "array([[-4., -5., -6.],\n",
              "       [-4., -5., -6.],\n",
              "       [-4., -5., -6.]])"
            ]
          },
          "metadata": {},
          "execution_count": 21
        }
      ]
    },
    {
      "cell_type": "markdown",
      "source": [
        "## **Division**"
      ],
      "metadata": {
        "id": "dXmSeUHFEOaQ"
      }
    },
    {
      "cell_type": "markdown",
      "source": [
        "For division , we have divisin between one array and digit"
      ],
      "metadata": {
        "id": "BOuTtXeMK06y"
      }
    },
    {
      "cell_type": "code",
      "source": [
        "np.divide([5, 6, 7],3)"
      ],
      "metadata": {
        "colab": {
          "base_uri": "https://localhost:8080/"
        },
        "id": "TOUQuUALWlfc",
        "outputId": "d327ad9d-d30d-486e-de68-e1477e2dc1d3"
      },
      "execution_count": null,
      "outputs": [
        {
          "output_type": "execute_result",
          "data": {
            "text/plain": [
              "array([1.66666667, 2.        , 2.33333333])"
            ]
          },
          "metadata": {},
          "execution_count": 30
        }
      ]
    },
    {
      "cell_type": "markdown",
      "source": [
        "# The floot is not the same with rounding"
      ],
      "metadata": {
        "id": "cfQ8fABSLpDA"
      }
    },
    {
      "cell_type": "code",
      "source": [
        "a = np.array([[1, 2],[3, 4]])\n",
        "a"
      ],
      "metadata": {
        "colab": {
          "base_uri": "https://localhost:8080/"
        },
        "id": "TI0khHFrcqjr",
        "outputId": "36a39254-e5aa-46ed-c489-4fb7551b6e85"
      },
      "execution_count": null,
      "outputs": [
        {
          "output_type": "execute_result",
          "data": {
            "text/plain": [
              "array([[1, 2],\n",
              "       [3, 4]])"
            ]
          },
          "metadata": {},
          "execution_count": 40
        }
      ]
    },
    {
      "cell_type": "code",
      "source": [
        "a[0,1]"
      ],
      "metadata": {
        "colab": {
          "base_uri": "https://localhost:8080/"
        },
        "id": "jo4LLgyZ6ytL",
        "outputId": "a25592b3-8dcb-4778-f99a-caa56fd4c615"
      },
      "execution_count": null,
      "outputs": [
        {
          "output_type": "execute_result",
          "data": {
            "text/plain": [
              "2"
            ]
          },
          "metadata": {},
          "execution_count": 29
        }
      ]
    },
    {
      "cell_type": "code",
      "source": [
        "a[0,0]"
      ],
      "metadata": {
        "colab": {
          "base_uri": "https://localhost:8080/"
        },
        "id": "v1YWxr3m07qh",
        "outputId": "724dab8e-66e5-4714-fc17-901161647fed"
      },
      "execution_count": null,
      "outputs": [
        {
          "output_type": "execute_result",
          "data": {
            "text/plain": [
              "1"
            ]
          },
          "metadata": {},
          "execution_count": 30
        }
      ]
    },
    {
      "cell_type": "code",
      "source": [
        "\n",
        "np.divide(a,2)"
      ],
      "metadata": {
        "colab": {
          "base_uri": "https://localhost:8080/"
        },
        "id": "xtDe14c2FM1w",
        "outputId": "8a5e5bbd-db13-43b2-d8db-bd210a2ed1a5"
      },
      "execution_count": null,
      "outputs": [
        {
          "output_type": "execute_result",
          "data": {
            "text/plain": [
              "array([[0.5, 1. ],\n",
              "       [1.5, 2. ]])"
            ]
          },
          "metadata": {},
          "execution_count": 26
        }
      ]
    },
    {
      "cell_type": "code",
      "source": [
        "np.floor_divide([5,6,7],3)"
      ],
      "metadata": {
        "colab": {
          "base_uri": "https://localhost:8080/"
        },
        "id": "0MKK2debW17D",
        "outputId": "8aea02e2-511d-4484-97b8-09e113700747"
      },
      "execution_count": null,
      "outputs": [
        {
          "output_type": "execute_result",
          "data": {
            "text/plain": [
              "array([1, 2, 2])"
            ]
          },
          "metadata": {},
          "execution_count": 31
        }
      ]
    },
    {
      "cell_type": "code",
      "source": [
        "np.divide(a,3)"
      ],
      "metadata": {
        "colab": {
          "base_uri": "https://localhost:8080/"
        },
        "id": "r0SiT2X0SYVZ",
        "outputId": "4ac40e5e-d921-4acf-8043-ddd4e0c188ed"
      },
      "execution_count": null,
      "outputs": [
        {
          "output_type": "execute_result",
          "data": {
            "text/plain": [
              "array([[0.33333333, 0.66666667],\n",
              "       [1.        , 1.33333333]])"
            ]
          },
          "metadata": {},
          "execution_count": 38
        }
      ]
    },
    {
      "cell_type": "markdown",
      "source": [
        "### **Other Mathematic Function **"
      ],
      "metadata": {
        "id": "dZaHOMqLXeVu"
      }
    },
    {
      "cell_type": "markdown",
      "source": [
        "Math is a sub class in Numpy which includes mathematical functions like square root, squar ,...."
      ],
      "metadata": {
        "id": "iaFUuxwnTV54"
      }
    },
    {
      "cell_type": "code",
      "source": [
        "tt = 26\n",
        "np.math.sqrt(tt)"
      ],
      "metadata": {
        "colab": {
          "base_uri": "https://localhost:8080/"
        },
        "id": "06EixhD5XlNe",
        "outputId": "6000ca5c-3442-4078-e505-399b1dceb71b"
      },
      "execution_count": null,
      "outputs": [
        {
          "output_type": "execute_result",
          "data": {
            "text/plain": [
              "5.0990195135927845"
            ]
          },
          "metadata": {},
          "execution_count": 34
        }
      ]
    },
    {
      "cell_type": "code",
      "source": [
        "np.math.sqrt(a)\n",
        "# in this function we can not input array and only we can input numbers"
      ],
      "metadata": {
        "colab": {
          "base_uri": "https://localhost:8080/",
          "height": 234
        },
        "id": "8Ob681K1Xo_a",
        "outputId": "dac89870-a29e-4cc6-bec6-c1c40e0326ff"
      },
      "execution_count": null,
      "outputs": [
        {
          "output_type": "error",
          "ename": "TypeError",
          "evalue": "ignored",
          "traceback": [
            "\u001b[0;31m---------------------------------------------------------------------------\u001b[0m",
            "\u001b[0;31mTypeError\u001b[0m                                 Traceback (most recent call last)",
            "\u001b[0;32m<ipython-input-33-c2a7f6ee3f45>\u001b[0m in \u001b[0;36m<cell line: 1>\u001b[0;34m()\u001b[0m\n\u001b[0;32m----> 1\u001b[0;31m \u001b[0mnp\u001b[0m\u001b[0;34m.\u001b[0m\u001b[0mmath\u001b[0m\u001b[0;34m.\u001b[0m\u001b[0msqrt\u001b[0m\u001b[0;34m(\u001b[0m\u001b[0ma\u001b[0m\u001b[0;34m)\u001b[0m\u001b[0;34m\u001b[0m\u001b[0;34m\u001b[0m\u001b[0m\n\u001b[0m\u001b[1;32m      2\u001b[0m \u001b[0;31m# in this function we can not input array and only we can input numbers\u001b[0m\u001b[0;34m\u001b[0m\u001b[0;34m\u001b[0m\u001b[0m\n",
            "\u001b[0;31mTypeError\u001b[0m: only size-1 arrays can be converted to Python scalars"
          ]
        }
      ]
    },
    {
      "cell_type": "code",
      "source": [
        "hh=np.math.inf\n",
        "hh"
      ],
      "metadata": {
        "colab": {
          "base_uri": "https://localhost:8080/"
        },
        "id": "iSLGfvH9X5O5",
        "outputId": "c3f5004b-94e7-420e-d324-89c595af50fc"
      },
      "execution_count": null,
      "outputs": [
        {
          "output_type": "execute_result",
          "data": {
            "text/plain": [
              "inf"
            ]
          },
          "metadata": {},
          "execution_count": 32
        }
      ]
    },
    {
      "cell_type": "markdown",
      "source": [
        "### **Sequences**"
      ],
      "metadata": {
        "id": "sjskakRsbCIB"
      }
    },
    {
      "cell_type": "markdown",
      "source": [
        "![image.png](data:image/png;base64,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)"
      ],
      "metadata": {
        "id": "XFZBvyr-bGoC"
      }
    },
    {
      "cell_type": "markdown",
      "source": [
        "# With arrange we select some number with predefine distance\n",
        "# With Linspace we select some numbers between two numbers with equal distance"
      ],
      "metadata": {
        "id": "-mEAEzjgMmLL"
      }
    },
    {
      "cell_type": "markdown",
      "source": [
        "This function is useful to define intervals between two range"
      ],
      "metadata": {
        "id": "D3zNfBMNNB2_"
      }
    },
    {
      "cell_type": "code",
      "source": [
        "np.arange(1,10,2,dtype='int')"
      ],
      "metadata": {
        "colab": {
          "base_uri": "https://localhost:8080/"
        },
        "id": "NZqw6m5bbEqK",
        "outputId": "7353e939-47ec-43e6-f13d-ca6547e685ba"
      },
      "execution_count": null,
      "outputs": [
        {
          "output_type": "execute_result",
          "data": {
            "text/plain": [
              "array([1, 3, 5, 7, 9])"
            ]
          },
          "metadata": {},
          "execution_count": 6
        }
      ]
    },
    {
      "cell_type": "markdown",
      "source": [
        "## Linspace : select 4 numbers between 1 and 8 , the distance in this fuction is equal"
      ],
      "metadata": {
        "id": "SIU0HA5egCg5"
      }
    },
    {
      "cell_type": "code",
      "source": [
        "np.linspace(1, 8, 100,dtype='float')"
      ],
      "metadata": {
        "colab": {
          "base_uri": "https://localhost:8080/"
        },
        "id": "0MjAfyA9bYiJ",
        "outputId": "3248897c-1f3f-4c1f-e9b4-d44be1017393"
      },
      "execution_count": null,
      "outputs": [
        {
          "output_type": "execute_result",
          "data": {
            "text/plain": [
              "array([1.        , 1.07070707, 1.14141414, 1.21212121, 1.28282828,\n",
              "       1.35353535, 1.42424242, 1.49494949, 1.56565657, 1.63636364,\n",
              "       1.70707071, 1.77777778, 1.84848485, 1.91919192, 1.98989899,\n",
              "       2.06060606, 2.13131313, 2.2020202 , 2.27272727, 2.34343434,\n",
              "       2.41414141, 2.48484848, 2.55555556, 2.62626263, 2.6969697 ,\n",
              "       2.76767677, 2.83838384, 2.90909091, 2.97979798, 3.05050505,\n",
              "       3.12121212, 3.19191919, 3.26262626, 3.33333333, 3.4040404 ,\n",
              "       3.47474747, 3.54545455, 3.61616162, 3.68686869, 3.75757576,\n",
              "       3.82828283, 3.8989899 , 3.96969697, 4.04040404, 4.11111111,\n",
              "       4.18181818, 4.25252525, 4.32323232, 4.39393939, 4.46464646,\n",
              "       4.53535354, 4.60606061, 4.67676768, 4.74747475, 4.81818182,\n",
              "       4.88888889, 4.95959596, 5.03030303, 5.1010101 , 5.17171717,\n",
              "       5.24242424, 5.31313131, 5.38383838, 5.45454545, 5.52525253,\n",
              "       5.5959596 , 5.66666667, 5.73737374, 5.80808081, 5.87878788,\n",
              "       5.94949495, 6.02020202, 6.09090909, 6.16161616, 6.23232323,\n",
              "       6.3030303 , 6.37373737, 6.44444444, 6.51515152, 6.58585859,\n",
              "       6.65656566, 6.72727273, 6.7979798 , 6.86868687, 6.93939394,\n",
              "       7.01010101, 7.08080808, 7.15151515, 7.22222222, 7.29292929,\n",
              "       7.36363636, 7.43434343, 7.50505051, 7.57575758, 7.64646465,\n",
              "       7.71717172, 7.78787879, 7.85858586, 7.92929293, 8.        ])"
            ]
          },
          "metadata": {},
          "execution_count": 66
        }
      ]
    },
    {
      "cell_type": "markdown",
      "source": [
        "## **Mask**"
      ],
      "metadata": {
        "id": "1nXcXVPmgTgZ"
      }
    },
    {
      "cell_type": "code",
      "source": [
        "a = np.array([[1,2],[3,4]])\n",
        "a"
      ],
      "metadata": {
        "colab": {
          "base_uri": "https://localhost:8080/"
        },
        "id": "VbV0ZyMEExBt",
        "outputId": "33bff3ec-2cbf-478b-e570-0ef181239af6"
      },
      "execution_count": null,
      "outputs": [
        {
          "output_type": "execute_result",
          "data": {
            "text/plain": [
              "array([[1, 2],\n",
              "       [3, 4]])"
            ]
          },
          "metadata": {},
          "execution_count": 7
        }
      ]
    },
    {
      "cell_type": "code",
      "source": [
        "\n",
        "my_mask = a>2\n",
        "print (my_mask)"
      ],
      "metadata": {
        "colab": {
          "base_uri": "https://localhost:8080/"
        },
        "id": "YA3KRCXig3OE",
        "outputId": "9063105d-0f0c-4a19-d6ca-165d1cf020d2"
      },
      "execution_count": null,
      "outputs": [
        {
          "output_type": "stream",
          "name": "stdout",
          "text": [
            "[[False False]\n",
            " [ True  True]]\n"
          ]
        }
      ]
    },
    {
      "cell_type": "markdown",
      "source": [
        "# When we use bracket after array it means we call one part of the array . Here we call my_mask from array a ."
      ],
      "metadata": {
        "id": "am85CkmKN5Ln"
      }
    },
    {
      "cell_type": "code",
      "source": [
        "print(a[my_mask])"
      ],
      "metadata": {
        "colab": {
          "base_uri": "https://localhost:8080/"
        },
        "id": "8Nl_qDxZFDs4",
        "outputId": "c1c18877-522b-4488-9f36-b2fb1e82307b"
      },
      "execution_count": null,
      "outputs": [
        {
          "output_type": "stream",
          "name": "stdout",
          "text": [
            "[3 4]\n"
          ]
        }
      ]
    },
    {
      "cell_type": "code",
      "source": [
        "a[my_mask]"
      ],
      "metadata": {
        "colab": {
          "base_uri": "https://localhost:8080/"
        },
        "id": "w7m_jl-SmWHw",
        "outputId": "173412a1-eaee-4917-f677-527958a8bbfc"
      },
      "execution_count": null,
      "outputs": [
        {
          "output_type": "execute_result",
          "data": {
            "text/plain": [
              "array([3, 4])"
            ]
          },
          "metadata": {},
          "execution_count": 9
        }
      ]
    },
    {
      "cell_type": "markdown",
      "source": [
        "## **logical operation  np.logical_and.  or np.logical_or  "
      ],
      "metadata": {
        "id": "C3NMyWD2GFby"
      }
    },
    {
      "cell_type": "code",
      "source": [
        "my_mask2 = np.logical_and(a>1,a<4)\n",
        "a[my_mask2]\n",
        "my_mask22 = np.logical_and((np.logical_or(a>1,a<4)), np.logical_and(a>2,a<3))\n",
        "my_mask22"
      ],
      "metadata": {
        "colab": {
          "base_uri": "https://localhost:8080/"
        },
        "id": "HJKZujazi_6c",
        "outputId": "bd150d12-a6ce-4808-e683-b7d45b765b61"
      },
      "execution_count": null,
      "outputs": [
        {
          "output_type": "execute_result",
          "data": {
            "text/plain": [
              "array([[False, False],\n",
              "       [False, False]])"
            ]
          },
          "metadata": {},
          "execution_count": 14
        }
      ]
    },
    {
      "cell_type": "code",
      "source": [
        "my_mask3 = np.logical_or(a>2,a<4)\n",
        "a[my_mask3]"
      ],
      "metadata": {
        "colab": {
          "base_uri": "https://localhost:8080/"
        },
        "id": "NaiteB5DjW6K",
        "outputId": "a5e67a4d-2e3b-475c-f95b-3e3ab7d70096"
      },
      "execution_count": null,
      "outputs": [
        {
          "output_type": "execute_result",
          "data": {
            "text/plain": [
              "array([1, 2, 3, 4])"
            ]
          },
          "metadata": {},
          "execution_count": 11
        }
      ]
    },
    {
      "cell_type": "markdown",
      "source": [
        "### **Array creation**"
      ],
      "metadata": {
        "id": "AEfvkd7hj9Bm"
      }
    },
    {
      "cell_type": "code",
      "source": [
        "my_zeros = np.zeros((3,2))\n",
        "my_zeros"
      ],
      "metadata": {
        "colab": {
          "base_uri": "https://localhost:8080/"
        },
        "id": "8b8iLX54j_Sv",
        "outputId": "6a984a43-c8c3-4e5b-ede1-3754a6326b5a"
      },
      "execution_count": null,
      "outputs": [
        {
          "output_type": "execute_result",
          "data": {
            "text/plain": [
              "array([[0., 0.],\n",
              "       [0., 0.],\n",
              "       [0., 0.]])"
            ]
          },
          "metadata": {},
          "execution_count": 12
        }
      ]
    },
    {
      "cell_type": "code",
      "source": [
        "my_ones = np.ones((3,10))\n",
        "my_ones"
      ],
      "metadata": {
        "colab": {
          "base_uri": "https://localhost:8080/"
        },
        "id": "0d9s9a51kHNg",
        "outputId": "46cdd787-fe23-4a4e-80cf-cdb3bc76703f"
      },
      "execution_count": null,
      "outputs": [
        {
          "output_type": "execute_result",
          "data": {
            "text/plain": [
              "array([[1., 1., 1., 1., 1., 1., 1., 1., 1., 1.],\n",
              "       [1., 1., 1., 1., 1., 1., 1., 1., 1., 1.],\n",
              "       [1., 1., 1., 1., 1., 1., 1., 1., 1., 1.]])"
            ]
          },
          "metadata": {},
          "execution_count": 75
        }
      ]
    },
    {
      "cell_type": "markdown",
      "source": [
        "## **number of memebrs in Array**"
      ],
      "metadata": {
        "id": "cYx4w79xk3V5"
      }
    },
    {
      "cell_type": "code",
      "source": [
        "np.size(a)"
      ],
      "metadata": {
        "colab": {
          "base_uri": "https://localhost:8080/"
        },
        "id": "DpU8l3DeOdIM",
        "outputId": "9ab8ac65-a4da-4ef9-8b7a-4636634b056f"
      },
      "execution_count": null,
      "outputs": [
        {
          "output_type": "execute_result",
          "data": {
            "text/plain": [
              "4"
            ]
          },
          "metadata": {},
          "execution_count": 76
        }
      ]
    },
    {
      "cell_type": "code",
      "source": [
        "np.size(my_ones)"
      ],
      "metadata": {
        "colab": {
          "base_uri": "https://localhost:8080/"
        },
        "id": "8D9NGcixkzcc",
        "outputId": "cc96fc48-da59-4830-c396-ef7eac12a468"
      },
      "execution_count": null,
      "outputs": [
        {
          "output_type": "execute_result",
          "data": {
            "text/plain": [
              "30"
            ]
          },
          "metadata": {},
          "execution_count": 77
        }
      ]
    },
    {
      "cell_type": "code",
      "source": [
        "np.shape(my_ones)"
      ],
      "metadata": {
        "colab": {
          "base_uri": "https://localhost:8080/"
        },
        "id": "VLvm6y3DlF-a",
        "outputId": "caf2e3f4-f461-4cf7-f888-363c837fc7e8"
      },
      "execution_count": null,
      "outputs": [
        {
          "output_type": "execute_result",
          "data": {
            "text/plain": [
              "(3, 10)"
            ]
          },
          "metadata": {},
          "execution_count": 78
        }
      ]
    },
    {
      "cell_type": "markdown",
      "source": [
        "# To know the number of columns and Rows we use Array.Shape"
      ],
      "metadata": {
        "id": "YSt8yDDLeiVk"
      }
    },
    {
      "cell_type": "code",
      "source": [
        "a"
      ],
      "metadata": {
        "colab": {
          "base_uri": "https://localhost:8080/"
        },
        "id": "DVlWZ_tXetd-",
        "outputId": "6cc8560f-bb95-4644-9234-c67b22da9b64"
      },
      "execution_count": null,
      "outputs": [
        {
          "output_type": "execute_result",
          "data": {
            "text/plain": [
              "array([[1, 2],\n",
              "       [3, 4]])"
            ]
          },
          "metadata": {},
          "execution_count": 62
        }
      ]
    },
    {
      "cell_type": "code",
      "source": [
        "a.shape"
      ],
      "metadata": {
        "colab": {
          "base_uri": "https://localhost:8080/"
        },
        "id": "hz58udKNecM6",
        "outputId": "4b7900ea-b3da-454c-cba5-29e9fc7bbdbf"
      },
      "execution_count": null,
      "outputs": [
        {
          "output_type": "execute_result",
          "data": {
            "text/plain": [
              "(2, 2)"
            ]
          },
          "metadata": {},
          "execution_count": 61
        }
      ]
    },
    {
      "cell_type": "markdown",
      "source": [
        "## **Sort**"
      ],
      "metadata": {
        "id": "lchhxdwplKkb"
      }
    },
    {
      "cell_type": "code",
      "source": [
        "a = np.array([[10,14],[55,5]])\n",
        "print(a)\n",
        "np.sort(a, axis=0) # if Axis is 1 then the sorting is done in row\n",
        "# if axis is 0 sorting is done in column"
      ],
      "metadata": {
        "colab": {
          "base_uri": "https://localhost:8080/"
        },
        "id": "1FctE3dwlRKl",
        "outputId": "ab2ce01c-8b9c-4eb9-ce40-70e5e61b18df"
      },
      "execution_count": null,
      "outputs": [
        {
          "output_type": "stream",
          "name": "stdout",
          "text": [
            "[[10 14]\n",
            " [55  5]]\n"
          ]
        },
        {
          "output_type": "execute_result",
          "data": {
            "text/plain": [
              "array([[10,  5],\n",
              "       [55, 14]])"
            ]
          },
          "metadata": {},
          "execution_count": 82
        }
      ]
    },
    {
      "cell_type": "code",
      "source": [
        "np.argsort(a)"
      ],
      "metadata": {
        "colab": {
          "base_uri": "https://localhost:8080/"
        },
        "id": "1OMfz-QKlys-",
        "outputId": "27c3560f-8108-49e7-c306-1cb3b44c0d3b"
      },
      "execution_count": null,
      "outputs": [
        {
          "output_type": "execute_result",
          "data": {
            "text/plain": [
              "array([[0, 1],\n",
              "       [1, 0]])"
            ]
          },
          "metadata": {},
          "execution_count": 44
        }
      ]
    },
    {
      "cell_type": "markdown",
      "source": [
        "### **Data Analysis**"
      ],
      "metadata": {
        "id": "ervJARfGmxeM"
      }
    },
    {
      "cell_type": "code",
      "source": [
        "a = np.array([1, 2, 3, 4, 1, 3,0]) # a set\n",
        "a"
      ],
      "metadata": {
        "colab": {
          "base_uri": "https://localhost:8080/"
        },
        "id": "YTAiYt1om1VH",
        "outputId": "eec7e678-dd36-46f7-8b45-dd5e0ae5dbf5"
      },
      "execution_count": null,
      "outputs": [
        {
          "output_type": "execute_result",
          "data": {
            "text/plain": [
              "array([1, 2, 3, 4, 1, 3, 0])"
            ]
          },
          "metadata": {},
          "execution_count": 37
        }
      ]
    },
    {
      "cell_type": "code",
      "source": [
        "b = np.array ([7,8,9,1,3,9,3,4,3,3,3,3,0])\n",
        "b"
      ],
      "metadata": {
        "colab": {
          "base_uri": "https://localhost:8080/"
        },
        "id": "Za3-jaznnBqW",
        "outputId": "a44e054c-de61-4b1b-c12b-5ea9aa6187e2"
      },
      "execution_count": null,
      "outputs": [
        {
          "output_type": "execute_result",
          "data": {
            "text/plain": [
              "array([7, 8, 9, 1, 3, 9, 3, 4, 3, 3, 3, 3, 0])"
            ]
          },
          "metadata": {},
          "execution_count": 38
        }
      ]
    },
    {
      "cell_type": "markdown",
      "source": [
        "## Unique : Find the unique value in the Set ( Array)"
      ],
      "metadata": {
        "id": "fh2IG_AJn5Rc"
      }
    },
    {
      "cell_type": "code",
      "source": [
        "np.unique(a)\n"
      ],
      "metadata": {
        "colab": {
          "base_uri": "https://localhost:8080/"
        },
        "id": "5go127c4njkC",
        "outputId": "ac31b49f-87ec-474a-acf1-7328629e16e9"
      },
      "execution_count": null,
      "outputs": [
        {
          "output_type": "execute_result",
          "data": {
            "text/plain": [
              "array([0, 1, 2, 3, 4])"
            ]
          },
          "metadata": {},
          "execution_count": 39
        }
      ]
    },
    {
      "cell_type": "code",
      "source": [
        "np.unique(b)"
      ],
      "metadata": {
        "colab": {
          "base_uri": "https://localhost:8080/"
        },
        "id": "FMxOe-jfn0Xl",
        "outputId": "9c85e047-030e-43b3-e15b-3840e46b4fda"
      },
      "execution_count": null,
      "outputs": [
        {
          "output_type": "execute_result",
          "data": {
            "text/plain": [
              "array([1, 3, 4, 7, 8, 9])"
            ]
          },
          "metadata": {},
          "execution_count": 19
        }
      ]
    },
    {
      "cell_type": "markdown",
      "source": [
        "### ***Union between two Sets***"
      ],
      "metadata": {
        "id": "tuEDLuZ9o_79"
      }
    },
    {
      "cell_type": "code",
      "source": [
        "np.union1d(a,b)"
      ],
      "metadata": {
        "colab": {
          "base_uri": "https://localhost:8080/"
        },
        "id": "1PiNTfwVoTkC",
        "outputId": "2a05a7ce-d3c7-4cd8-8acd-c47a4b2e04d4"
      },
      "execution_count": null,
      "outputs": [
        {
          "output_type": "execute_result",
          "data": {
            "text/plain": [
              "array([0, 1, 2, 3, 4, 7, 8, 9])"
            ]
          },
          "metadata": {},
          "execution_count": 41
        }
      ]
    },
    {
      "cell_type": "markdown",
      "source": [
        "### ***Intersection between two Sets***"
      ],
      "metadata": {
        "id": "1ijzeV93pEID"
      }
    },
    {
      "cell_type": "code",
      "source": [
        "np.intersect1d(a,b)"
      ],
      "metadata": {
        "colab": {
          "base_uri": "https://localhost:8080/"
        },
        "id": "lCOJ4G1_pWiY",
        "outputId": "b20e3110-907d-4c7d-e68a-a65bed1e5edc"
      },
      "execution_count": null,
      "outputs": [
        {
          "output_type": "execute_result",
          "data": {
            "text/plain": [
              "array([0, 1, 3, 4])"
            ]
          },
          "metadata": {},
          "execution_count": 44
        }
      ]
    },
    {
      "cell_type": "markdown",
      "source": [
        "### ***Descriptive Statistics ***"
      ],
      "metadata": {
        "id": "eb40jAycprSw"
      }
    },
    {
      "cell_type": "markdown",
      "source": [
        "In Numpy we have median mean and STD and Variance fucntions only for arrayes"
      ],
      "metadata": {
        "id": "Y7S4WHJoYcgM"
      }
    },
    {
      "cell_type": "code",
      "source": [
        "lol = np.array ([1,2,3,4,1,3])\n",
        "lol"
      ],
      "metadata": {
        "colab": {
          "base_uri": "https://localhost:8080/"
        },
        "id": "fZBRU1CEqFxo",
        "outputId": "f01ff695-39ba-4b99-d7ca-4cfdfd4a9f56"
      },
      "execution_count": null,
      "outputs": [
        {
          "output_type": "execute_result",
          "data": {
            "text/plain": [
              "array([1, 2, 3, 4, 1, 3])"
            ]
          },
          "metadata": {},
          "execution_count": 45
        }
      ]
    },
    {
      "cell_type": "code",
      "source": [
        "np.mean(lol)"
      ],
      "metadata": {
        "colab": {
          "base_uri": "https://localhost:8080/"
        },
        "id": "01kFrqz0p3Pk",
        "outputId": "4c833d5b-f776-4338-89a3-54d56c8b8fdb"
      },
      "execution_count": null,
      "outputs": [
        {
          "output_type": "execute_result",
          "data": {
            "text/plain": [
              "2.3333333333333335"
            ]
          },
          "metadata": {},
          "execution_count": 46
        }
      ]
    },
    {
      "cell_type": "code",
      "source": [
        "np.median(lol)"
      ],
      "metadata": {
        "colab": {
          "base_uri": "https://localhost:8080/"
        },
        "id": "XyrSaNSLqIM3",
        "outputId": "742fe546-b19d-42e7-b68b-19f4c31c3854"
      },
      "execution_count": null,
      "outputs": [
        {
          "output_type": "execute_result",
          "data": {
            "text/plain": [
              "2.5"
            ]
          },
          "metadata": {},
          "execution_count": 47
        }
      ]
    },
    {
      "cell_type": "markdown",
      "source": [
        "## ***Distribution Indicators***"
      ],
      "metadata": {
        "id": "2g1fbCduVqHr"
      }
    },
    {
      "cell_type": "code",
      "source": [
        "np.std(lol) # Standard Deviation"
      ],
      "metadata": {
        "colab": {
          "base_uri": "https://localhost:8080/"
        },
        "id": "bn0zLvV6qOZl",
        "outputId": "9123e664-1aeb-44f4-a3e7-829830a95b06"
      },
      "execution_count": null,
      "outputs": [
        {
          "output_type": "execute_result",
          "data": {
            "text/plain": [
              "1.1055415967851334"
            ]
          },
          "metadata": {},
          "execution_count": 85
        }
      ]
    },
    {
      "cell_type": "code",
      "source": [
        "np.var(lol) # Variance"
      ],
      "metadata": {
        "colab": {
          "base_uri": "https://localhost:8080/"
        },
        "id": "02Y-cgH1qbGX",
        "outputId": "372d11ff-8301-43d3-92e0-02e0e43b9263"
      },
      "execution_count": null,
      "outputs": [
        {
          "output_type": "execute_result",
          "data": {
            "text/plain": [
              "1.2222222222222223"
            ]
          },
          "metadata": {},
          "execution_count": 36
        }
      ]
    },
    {
      "cell_type": "markdown",
      "source": [
        "### ***Polynomial in numpy***"
      ],
      "metadata": {
        "id": "Ffp-bmV3q4H6"
      }
    },
    {
      "cell_type": "markdown",
      "source": [
        " **X^ 2 + X + 2 = Polynomial**\n",
        "\n",
        " by function polynomial , we define an equation ( polynomial). In this case , we need to input an array which includes coefficents.\n",
        "\n",
        " If i have 4 coefficent then i have this Equation:\n",
        " X^3+X^ 2 + X + 2"
      ],
      "metadata": {
        "id": "RX4RQDc8riMZ"
      }
    },
    {
      "cell_type": "markdown",
      "source": [
        "# in this method numpy changes the polynomial to **array**"
      ],
      "metadata": {
        "id": "g-fugHyTbAW1"
      }
    },
    {
      "cell_type": "code",
      "source": [
        "Coeff = [1,1,2,4,5]\n",
        "np.polyval(Coeff,2)"
      ],
      "metadata": {
        "colab": {
          "base_uri": "https://localhost:8080/"
        },
        "id": "mGFj8qelrARr",
        "outputId": "6c626c27-daeb-4960-f805-33d17285b804"
      },
      "execution_count": null,
      "outputs": [
        {
          "output_type": "execute_result",
          "data": {
            "text/plain": [
              "45"
            ]
          },
          "metadata": {},
          "execution_count": 93
        }
      ]
    },
    {
      "cell_type": "code",
      "source": [
        "np.polyder(Coeff,2)"
      ],
      "metadata": {
        "colab": {
          "base_uri": "https://localhost:8080/"
        },
        "id": "FC4qoSRCsEbT",
        "outputId": "cd769902-bcc8-43ce-e54e-851a720d70ae"
      },
      "execution_count": null,
      "outputs": [
        {
          "output_type": "execute_result",
          "data": {
            "text/plain": [
              "array([12,  6,  4])"
            ]
          },
          "metadata": {},
          "execution_count": 96
        }
      ]
    },
    {
      "cell_type": "code",
      "source": [
        "np.polyint(Coeff)"
      ],
      "metadata": {
        "colab": {
          "base_uri": "https://localhost:8080/"
        },
        "id": "kJt50WhSsPiR",
        "outputId": "5f64df97-e220-4682-d39b-3c9bb2e24100"
      },
      "execution_count": null,
      "outputs": [
        {
          "output_type": "execute_result",
          "data": {
            "text/plain": [
              "array([0.2       , 0.25      , 0.66666667, 2.        , 5.        ,\n",
              "       0.        ])"
            ]
          },
          "metadata": {},
          "execution_count": 101
        }
      ]
    }
  ]
}